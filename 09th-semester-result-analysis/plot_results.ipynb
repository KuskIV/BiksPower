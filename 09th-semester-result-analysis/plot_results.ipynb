{
 "cells": [
  {
   "cell_type": "code",
   "execution_count": 34,
   "metadata": {},
   "outputs": [],
   "source": [
    "import numpy as np\n",
    "from utils.database_repository import DataRepository\n",
    "from utils.objects import *\n",
    "import matplotlib.pyplot as plt\n",
    "from collections import defaultdict\n",
    "import numpy as np"
   ]
  },
  {
   "cell_type": "code",
   "execution_count": 2,
   "metadata": {},
   "outputs": [
    {
     "name": "stdout",
     "output_type": "stream",
     "text": [
      "Connected to MySQL Server version  5.7.39-42-log\n"
     ]
    }
   ],
   "source": [
    "repository = DataRepository()"
   ]
  },
  {
   "cell_type": "code",
   "execution_count": 3,
   "metadata": {},
   "outputs": [],
   "source": [
    "test_case_name = \"DiningPhilosophers\"\n",
    "dut_name = \"Surface4Pro\"\n",
    "dut_os = \"Win32NT\"\n",
    "profiler_name = \"IntelPowerGadget\"\n",
    "\n",
    "min_temp = 0\n",
    "max_temp = 200\n",
    "\n",
    "min_battery = 1\n",
    "max_battery = 100\n",
    "\n",
    "between = 0\n",
    "duration = 2\n",
    "\n",
    "version = 4\n",
    "\n",
    "language = \"CSharp\"\n",
    "env = \"PROD\"\n",
    "\n",
    "limit = 200"
   ]
  },
  {
   "cell_type": "code",
   "execution_count": 4,
   "metadata": {},
   "outputs": [
    {
     "data": {
      "text/plain": [
       "(1, 'IntelPowerGadget')"
      ]
     },
     "execution_count": 4,
     "metadata": {},
     "output_type": "execute_result"
    }
   ],
   "source": [
    "energy_profiler = EnergyProfiler(profiler_name, repository)\n",
    "\n",
    "energy_profiler.id, energy_profiler.energy_profiler_name\n"
   ]
  },
  {
   "cell_type": "code",
   "execution_count": 5,
   "metadata": {},
   "outputs": [
    {
     "data": {
      "text/plain": [
       "(6, 'Surface4Pro', 'Win32NT')"
      ]
     },
     "execution_count": 5,
     "metadata": {},
     "output_type": "execute_result"
    }
   ],
   "source": [
    "dut = Dut(dut_name, dut_os, repository)\n",
    "\n",
    "dut.id, dut.dut_name, dut.dut_os"
   ]
  },
  {
   "cell_type": "code",
   "execution_count": 6,
   "metadata": {},
   "outputs": [
    {
     "data": {
      "text/plain": [
       "(13, 1, 100, 0, 200, 4, 'PROD', 2, 0)"
      ]
     },
     "execution_count": 6,
     "metadata": {},
     "output_type": "execute_result"
    }
   ],
   "source": [
    "config = Configuration(min_temp, max_temp, min_battery, max_battery, duration, between, version, repository, env)\n",
    "\n",
    "config.id, config.min_battery, config.max_battery, config.min_temp, config.max_temp, config.version, config.env, config.duration, config.between"
   ]
  },
  {
   "cell_type": "code",
   "execution_count": 7,
   "metadata": {},
   "outputs": [
    {
     "data": {
      "text/plain": [
       "(2, 'DiningPhilosophers')"
      ]
     },
     "execution_count": 7,
     "metadata": {},
     "output_type": "execute_result"
    }
   ],
   "source": [
    "test_case = TestCase(test_case_name, repository)\n",
    "test_case.id, test_case.test_case_name"
   ]
  },
  {
   "cell_type": "code",
   "execution_count": 8,
   "metadata": {},
   "outputs": [
    {
     "data": {
      "text/plain": [
       "(14, 13, 6, 'CSharp', 2, 200)"
      ]
     },
     "execution_count": 8,
     "metadata": {},
     "output_type": "execute_result"
    }
   ],
   "source": [
    "experiment = Experiment(config.id, dut.id, test_case.id, language, repository, 200)\n",
    "len(experiment.experiments), experiment.config_id, experiment.dut_id, experiment.language, experiment.test_case_id, experiment.count\n"
   ]
  },
  {
   "cell_type": "code",
   "execution_count": 9,
   "metadata": {},
   "outputs": [
    {
     "data": {
      "text/plain": [
       "(datetime.datetime(2022, 10, 24, 12, 55, 59, 770991),\n",
       " datetime.datetime(2022, 10, 24, 12, 53, 43, 260224),\n",
       " 247,\n",
       " 13,\n",
       " 120967)"
      ]
     },
     "execution_count": 9,
     "metadata": {},
     "output_type": "execute_result"
    }
   ],
   "source": [
    "temp_experiment = experiment.experiments[0]\n",
    "\n",
    "temp_experiment.end_time, temp_experiment.start_time, temp_experiment.runs, temp_experiment.iteration, temp_experiment.duration"
   ]
  },
  {
   "cell_type": "code",
   "execution_count": 10,
   "metadata": {},
   "outputs": [
    {
     "data": {
      "text/plain": [
       "[13, 12, 11, 10, 9, 8, 7, 6, 5, 4, 3, 2, 1, 1]"
      ]
     },
     "execution_count": 10,
     "metadata": {},
     "output_type": "execute_result"
    }
   ],
   "source": [
    "durations = [x.duration / x.runs for x in experiment.experiments]\n",
    "dram_avg = [x.AverageDRAMPower0InWatt for x in experiment.experiments]\n",
    "gt_power_avg = [x.AverageGTPower0InWatt for x in experiment.experiments]\n",
    "ai_power_avg = [x.AverageIAPower0InWatt for x in experiment.experiments]\n",
    "processor_power_avg = [x.AverageProcessorPower0InWatt for x in experiment.experiments]\n",
    "\n",
    "durations, dram_avg, ai_power_avg, processor_power_avg\n",
    "\n",
    "[x.iteration for x in experiment.experiments]"
   ]
  },
  {
   "cell_type": "code",
   "execution_count": 14,
   "metadata": {},
   "outputs": [
    {
     "data": {
      "image/png": "[encoded data removed]",
      "text/plain": [
       "<Figure size 640x480 with 1 Axes>"
      ]
     },
     "metadata": {},
     "output_type": "display_data"
    }
   ],
   "source": [
    "\n",
    "\n",
    "tuples_to_plot = [(x.iteration, x.duration / x.runs) for x in experiment.experiments]\n",
    "\n",
    "plt.scatter(*zip(*tuples_to_plot))\n",
    "plt.ylim(0,600)\n",
    "plt.show()"
   ]
  },
  {
   "cell_type": "code",
   "execution_count": 33,
   "metadata": {},
   "outputs": [
    {
     "data": {
      "text/plain": [
       "defaultdict(dict,\n",
       "            {13: {'avg_duration': 489.7449392712551},\n",
       "             12: {'avg_duration': 491.4918699186992},\n",
       "             11: {'avg_duration': 493.0285714285714},\n",
       "             10: {'avg_duration': 494.46311475409834},\n",
       "             9: {'avg_duration': 496.5308641975309},\n",
       "             8: {'avg_duration': 498.3057851239669},\n",
       "             7: {'avg_duration': 500.08298755186723},\n",
       "             6: {'avg_duration': 501.5625},\n",
       "             5: {'avg_duration': 503.36401673640165},\n",
       "             4: {'avg_duration': 505.30252100840335},\n",
       "             3: {'avg_duration': 506.9409282700422},\n",
       "             2: {'avg_duration': 516.3728813559322},\n",
       "             1: {'avg_duration': 517.836170212766}})"
      ]
     },
     "execution_count": 33,
     "metadata": {},
     "output_type": "execute_result"
    }
   ],
   "source": [
    "from audioop import avg\n",
    "\n",
    "\n",
    "groups = defaultdict(list)\n",
    "values = defaultdict(dict)\n",
    "\n",
    "for obj in experiment.experiments:\n",
    "    groups[obj.iteration].append(obj)\n",
    "\n",
    "tuples_to_plot = []\n",
    "\n",
    "for g in groups:\n",
    "    if not g in values:\n",
    "        values[g] = {}\n",
    "    \n",
    "    avg_duration = [x.duration / x.runs for x in groups[g]]\n",
    "    \n",
    "    values[g][\"avg_duration\"] = sum(avg_duration) / len(avg_duration)  \n",
    "    values[g][\"std_duration\"] = np.std(duration)\n",
    "\n",
    "values\n",
    "\n",
    "# tuples_to_plot = [(groups[x][0].iteration, groups[x].duration / groups[x].runs) for x in groups]\n",
    "\n",
    "# plt.scatter(*zip(*tuples_to_plot))\n",
    "# plt.ylim(0,600)\n",
    "# plt.show()"
   ]
  }
 ],
 "metadata": {
  "kernelspec": {
   "display_name": "Python 3.10.7 ('env': venv)",
   "language": "python",
   "name": "python3"
  },
  "language_info": {
   "codemirror_mode": {
    "name": "ipython",
    "version": 3
   },
   "file_extension": ".py",
   "mimetype": "text/x-python",
   "name": "python",
   "nbconvert_exporter": "python",
   "pygments_lexer": "ipython3",
   "version": "3.10.7"
  },
  "orig_nbformat": 4,
  "vscode": {
   "interpreter": {
    "hash": "60380eae6fee6fe3e26702bf53f19a085732533ec180dcbfbb77d4155bad62bb"
   }
  }
 },
 "nbformat": 4,
 "nbformat_minor": 2
}
