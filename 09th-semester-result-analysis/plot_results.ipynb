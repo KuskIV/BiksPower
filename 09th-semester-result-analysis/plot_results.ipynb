{
 "cells": [
  {
   "cell_type": "code",
   "execution_count": 1,
   "metadata": {},
   "outputs": [],
   "source": [
    "import numpy as np\n",
    "from utils.database_repository import DataRepository\n",
    "from utils.objects import *\n",
    "import matplotlib.pyplot as plt\n",
    "from collections import defaultdict\n",
    "import numpy as np"
   ]
  },
  {
   "cell_type": "code",
   "execution_count": 2,
   "metadata": {},
   "outputs": [
    {
     "name": "stdout",
     "output_type": "stream",
     "text": [
      "Connected to MySQL Server version  5.7.39-42-log\n"
     ]
    }
   ],
   "source": [
    "repository = DataRepository()"
   ]
  },
  {
   "cell_type": "code",
   "execution_count": 3,
   "metadata": {},
   "outputs": [],
   "source": [
    "dut_os = \"Win32NT\"\n",
    "profiler_name = \"IntelPowerGadget\"\n",
    "\n",
    "# dut_name = \"PowerKomplett\" \n",
    "# version = 3\n",
    "\n",
    "# dut_name = \"Surface4Pro\"\n",
    "# version = 6\n",
    "\n",
    "dut_name = \"SurfaceBook\"\n",
    "version = 3\n",
    "\n",
    "\n",
    "test_case_name = \"IdleCase\"\n",
    "# test_case_name = \"DiningPhilosophers\"\n",
    "\n",
    "min_temp = 0\n",
    "max_temp = 200\n",
    "\n",
    "min_battery = 1\n",
    "max_battery = 100\n",
    "\n",
    "between = 0\n",
    "duration = 1\n",
    "\n",
    "\n",
    "language = \"CSharp\"\n",
    "env = \"PROD\"\n",
    "\n",
    "limit = 200"
   ]
  },
  {
   "cell_type": "code",
   "execution_count": 4,
   "metadata": {},
   "outputs": [
    {
     "data": {
      "text/plain": [
       "(1, 'IntelPowerGadget')"
      ]
     },
     "execution_count": 4,
     "metadata": {},
     "output_type": "execute_result"
    }
   ],
   "source": [
    "energy_profiler = EnergyProfiler(profiler_name, repository)\n",
    "\n",
    "energy_profiler.id, energy_profiler.energy_profiler_name\n"
   ]
  },
  {
   "cell_type": "code",
   "execution_count": 5,
   "metadata": {},
   "outputs": [
    {
     "data": {
      "text/plain": [
       "(8, 'SurfaceBook', 'Win32NT')"
      ]
     },
     "execution_count": 5,
     "metadata": {},
     "output_type": "execute_result"
    }
   ],
   "source": [
    "dut = Dut(dut_name, dut_os, repository)\n",
    "\n",
    "dut.id, dut.dut_name, dut.dut_os"
   ]
  },
  {
   "cell_type": "code",
   "execution_count": 6,
   "metadata": {},
   "outputs": [
    {
     "data": {
      "text/plain": [
       "(19, 1, 100, 0, 200, 3, 'PROD', 1, 0)"
      ]
     },
     "execution_count": 6,
     "metadata": {},
     "output_type": "execute_result"
    }
   ],
   "source": [
    "config = Configuration(min_temp, max_temp, min_battery, max_battery, duration, between, version, repository, env)\n",
    "\n",
    "config.id, config.min_battery, config.max_battery, config.min_temp, config.max_temp, config.version, config.env, config.duration, config.between"
   ]
  },
  {
   "cell_type": "code",
   "execution_count": 7,
   "metadata": {},
   "outputs": [
    {
     "data": {
      "text/plain": [
       "(3, 'IdleCase')"
      ]
     },
     "execution_count": 7,
     "metadata": {},
     "output_type": "execute_result"
    }
   ],
   "source": [
    "test_case = TestCase(test_case_name, repository)\n",
    "test_case.id, test_case.test_case_name"
   ]
  },
  {
   "cell_type": "code",
   "execution_count": 10,
   "metadata": {},
   "outputs": [
    {
     "ename": "JSONDecodeError",
     "evalue": "Unterminated string starting at: line 1 column 49990 (char 49989)",
     "output_type": "error",
     "traceback": [
      "\u001b[1;31m---------------------------------------------------------------------------\u001b[0m",
      "\u001b[1;31mJSONDecodeError\u001b[0m                           Traceback (most recent call last)",
      "Cell \u001b[1;32mIn [10], line 1\u001b[0m\n\u001b[1;32m----> 1\u001b[0m experiment \u001b[39m=\u001b[39m Experiment(config\u001b[39m.\u001b[39;49mid, dut\u001b[39m.\u001b[39;49mid, test_case\u001b[39m.\u001b[39;49mid, language, repository, \u001b[39m200\u001b[39;49m)\n\u001b[0;32m      2\u001b[0m \u001b[39mlen\u001b[39m(experiment\u001b[39m.\u001b[39mexperiments), experiment\u001b[39m.\u001b[39mconfig_id, experiment\u001b[39m.\u001b[39mdut_id, experiment\u001b[39m.\u001b[39mlanguage, experiment\u001b[39m.\u001b[39mtest_case_id, experiment\u001b[39m.\u001b[39mcount\n",
      "File \u001b[1;32mc:\\Users\\Mads Kusk\\git\\BiksPower\\09th-semester-result-analysis\\utils\\objects.py:25\u001b[0m, in \u001b[0;36mExperiment.__init__\u001b[1;34m(self, config_id, dut_id, test_case_id, language, repository, count)\u001b[0m\n\u001b[0;32m     21\u001b[0m \u001b[39mself\u001b[39m\u001b[39m.\u001b[39mcount \u001b[39m=\u001b[39m count\n\u001b[0;32m     23\u001b[0m \u001b[39mfor\u001b[39;00m d \u001b[39min\u001b[39;00m data:\n\u001b[0;32m     24\u001b[0m     \u001b[39mself\u001b[39m\u001b[39m.\u001b[39mexperiments\u001b[39m.\u001b[39mappend(\n\u001b[1;32m---> 25\u001b[0m         RawData(\n\u001b[0;32m     26\u001b[0m             d[\u001b[39m0\u001b[39;49m],\n\u001b[0;32m     27\u001b[0m             d[\u001b[39m5\u001b[39;49m],\n\u001b[0;32m     28\u001b[0m             d[\u001b[39m6\u001b[39;49m],\n\u001b[0;32m     29\u001b[0m             d[\u001b[39m8\u001b[39;49m],\n\u001b[0;32m     30\u001b[0m             d[\u001b[39m9\u001b[39;49m],\n\u001b[0;32m     31\u001b[0m             d[\u001b[39m10\u001b[39;49m],\n\u001b[0;32m     32\u001b[0m             d[\u001b[39m11\u001b[39;49m],\n\u001b[0;32m     33\u001b[0m             repository,\n\u001b[0;32m     34\u001b[0m         )\n\u001b[0;32m     35\u001b[0m     )\n",
      "File \u001b[1;32mc:\\Users\\Mads Kusk\\git\\BiksPower\\09th-semester-result-analysis\\utils\\objects.py:193\u001b[0m, in \u001b[0;36mRawData.__init__\u001b[1;34m(self, experiment_id, start_time, end_time, runs, iteration, first_profiler, duration, repository)\u001b[0m\n\u001b[0;32m    190\u001b[0m \u001b[39mself\u001b[39m\u001b[39m.\u001b[39mfirst_profiler \u001b[39m=\u001b[39m first_profiler\n\u001b[0;32m    191\u001b[0m \u001b[39mself\u001b[39m\u001b[39m.\u001b[39mduration \u001b[39m=\u001b[39m duration\n\u001b[1;32m--> 193\u001b[0m \u001b[39mself\u001b[39m\u001b[39m.\u001b[39mtime_series \u001b[39m=\u001b[39m TimeSeries(experiment_id, repository)\n\u001b[0;32m    195\u001b[0m \u001b[39mself\u001b[39m\u001b[39m.\u001b[39mstart_temperature \u001b[39m=\u001b[39m GetMeasurements(\n\u001b[0;32m    196\u001b[0m     experiment_id, \u001b[39m\"\u001b[39m\u001b[39mCpuTemperature\u001b[39m\u001b[39m\"\u001b[39m, repository, \u001b[39mmin\u001b[39m\n\u001b[0;32m    197\u001b[0m )\n\u001b[0;32m    198\u001b[0m \u001b[39mself\u001b[39m\u001b[39m.\u001b[39mstop_temperature \u001b[39m=\u001b[39m GetMeasurements(\n\u001b[0;32m    199\u001b[0m     experiment_id, \u001b[39m\"\u001b[39m\u001b[39mCpuTemperature\u001b[39m\u001b[39m\"\u001b[39m, repository, \u001b[39mmax\u001b[39m\n\u001b[0;32m    200\u001b[0m )\n",
      "File \u001b[1;32mc:\\Users\\Mads Kusk\\git\\BiksPower\\09th-semester-result-analysis\\utils\\objects.py:163\u001b[0m, in \u001b[0;36mTimeSeries.__init__\u001b[1;34m(self, experiment_id, repository)\u001b[0m\n\u001b[0;32m    161\u001b[0m \u001b[39mself\u001b[39m\u001b[39m.\u001b[39mid \u001b[39m=\u001b[39m data[\u001b[39m0\u001b[39m]\n\u001b[0;32m    162\u001b[0m \u001b[39mself\u001b[39m\u001b[39m.\u001b[39mexperiment_id \u001b[39m=\u001b[39m data[\u001b[39m1\u001b[39m]\n\u001b[1;32m--> 163\u001b[0m \u001b[39mself\u001b[39m\u001b[39m.\u001b[39m\u001b[39m__dict__\u001b[39m \u001b[39m=\u001b[39m json\u001b[39m.\u001b[39;49mloads(data[\u001b[39m2\u001b[39;49m])\n",
      "File \u001b[1;32m~\\AppData\\Local\\Programs\\Python\\Python310\\lib\\json\\__init__.py:346\u001b[0m, in \u001b[0;36mloads\u001b[1;34m(s, cls, object_hook, parse_float, parse_int, parse_constant, object_pairs_hook, **kw)\u001b[0m\n\u001b[0;32m    341\u001b[0m     s \u001b[39m=\u001b[39m s\u001b[39m.\u001b[39mdecode(detect_encoding(s), \u001b[39m'\u001b[39m\u001b[39msurrogatepass\u001b[39m\u001b[39m'\u001b[39m)\n\u001b[0;32m    343\u001b[0m \u001b[39mif\u001b[39;00m (\u001b[39mcls\u001b[39m \u001b[39mis\u001b[39;00m \u001b[39mNone\u001b[39;00m \u001b[39mand\u001b[39;00m object_hook \u001b[39mis\u001b[39;00m \u001b[39mNone\u001b[39;00m \u001b[39mand\u001b[39;00m\n\u001b[0;32m    344\u001b[0m         parse_int \u001b[39mis\u001b[39;00m \u001b[39mNone\u001b[39;00m \u001b[39mand\u001b[39;00m parse_float \u001b[39mis\u001b[39;00m \u001b[39mNone\u001b[39;00m \u001b[39mand\u001b[39;00m\n\u001b[0;32m    345\u001b[0m         parse_constant \u001b[39mis\u001b[39;00m \u001b[39mNone\u001b[39;00m \u001b[39mand\u001b[39;00m object_pairs_hook \u001b[39mis\u001b[39;00m \u001b[39mNone\u001b[39;00m \u001b[39mand\u001b[39;00m \u001b[39mnot\u001b[39;00m kw):\n\u001b[1;32m--> 346\u001b[0m     \u001b[39mreturn\u001b[39;00m _default_decoder\u001b[39m.\u001b[39;49mdecode(s)\n\u001b[0;32m    347\u001b[0m \u001b[39mif\u001b[39;00m \u001b[39mcls\u001b[39m \u001b[39mis\u001b[39;00m \u001b[39mNone\u001b[39;00m:\n\u001b[0;32m    348\u001b[0m     \u001b[39mcls\u001b[39m \u001b[39m=\u001b[39m JSONDecoder\n",
      "File \u001b[1;32m~\\AppData\\Local\\Programs\\Python\\Python310\\lib\\json\\decoder.py:337\u001b[0m, in \u001b[0;36mJSONDecoder.decode\u001b[1;34m(self, s, _w)\u001b[0m\n\u001b[0;32m    332\u001b[0m \u001b[39mdef\u001b[39;00m \u001b[39mdecode\u001b[39m(\u001b[39mself\u001b[39m, s, _w\u001b[39m=\u001b[39mWHITESPACE\u001b[39m.\u001b[39mmatch):\n\u001b[0;32m    333\u001b[0m     \u001b[39m\"\"\"Return the Python representation of ``s`` (a ``str`` instance\u001b[39;00m\n\u001b[0;32m    334\u001b[0m \u001b[39m    containing a JSON document).\u001b[39;00m\n\u001b[0;32m    335\u001b[0m \n\u001b[0;32m    336\u001b[0m \u001b[39m    \"\"\"\u001b[39;00m\n\u001b[1;32m--> 337\u001b[0m     obj, end \u001b[39m=\u001b[39m \u001b[39mself\u001b[39;49m\u001b[39m.\u001b[39;49mraw_decode(s, idx\u001b[39m=\u001b[39;49m_w(s, \u001b[39m0\u001b[39;49m)\u001b[39m.\u001b[39;49mend())\n\u001b[0;32m    338\u001b[0m     end \u001b[39m=\u001b[39m _w(s, end)\u001b[39m.\u001b[39mend()\n\u001b[0;32m    339\u001b[0m     \u001b[39mif\u001b[39;00m end \u001b[39m!=\u001b[39m \u001b[39mlen\u001b[39m(s):\n",
      "File \u001b[1;32m~\\AppData\\Local\\Programs\\Python\\Python310\\lib\\json\\decoder.py:353\u001b[0m, in \u001b[0;36mJSONDecoder.raw_decode\u001b[1;34m(self, s, idx)\u001b[0m\n\u001b[0;32m    344\u001b[0m \u001b[39m\"\"\"Decode a JSON document from ``s`` (a ``str`` beginning with\u001b[39;00m\n\u001b[0;32m    345\u001b[0m \u001b[39ma JSON document) and return a 2-tuple of the Python\u001b[39;00m\n\u001b[0;32m    346\u001b[0m \u001b[39mrepresentation and the index in ``s`` where the document ended.\u001b[39;00m\n\u001b[1;32m   (...)\u001b[0m\n\u001b[0;32m    350\u001b[0m \n\u001b[0;32m    351\u001b[0m \u001b[39m\"\"\"\u001b[39;00m\n\u001b[0;32m    352\u001b[0m \u001b[39mtry\u001b[39;00m:\n\u001b[1;32m--> 353\u001b[0m     obj, end \u001b[39m=\u001b[39m \u001b[39mself\u001b[39;49m\u001b[39m.\u001b[39;49mscan_once(s, idx)\n\u001b[0;32m    354\u001b[0m \u001b[39mexcept\u001b[39;00m \u001b[39mStopIteration\u001b[39;00m \u001b[39mas\u001b[39;00m err:\n\u001b[0;32m    355\u001b[0m     \u001b[39mraise\u001b[39;00m JSONDecodeError(\u001b[39m\"\u001b[39m\u001b[39mExpecting value\u001b[39m\u001b[39m\"\u001b[39m, s, err\u001b[39m.\u001b[39mvalue) \u001b[39mfrom\u001b[39;00m \u001b[39mNone\u001b[39m\n",
      "\u001b[1;31mJSONDecodeError\u001b[0m: Unterminated string starting at: line 1 column 49990 (char 49989)"
     ]
    }
   ],
   "source": [
    "experiment = Experiment(config.id, dut.id, test_case.id, language, repository, 200)\n",
    "len(experiment.experiments), experiment.config_id, experiment.dut_id, experiment.language, experiment.test_case_id, experiment.count\n"
   ]
  },
  {
   "cell_type": "code",
   "execution_count": null,
   "metadata": {},
   "outputs": [],
   "source": [
    "repository.close()"
   ]
  },
  {
   "cell_type": "code",
   "execution_count": null,
   "metadata": {},
   "outputs": [
    {
     "data": {
      "text/plain": [
       "(datetime.datetime(2022, 10, 28, 12, 42, 51, 54675),\n",
       " datetime.datetime(2022, 10, 28, 12, 41, 50, 952072),\n",
       " 2,\n",
       " 4,\n",
       " 60045)"
      ]
     },
     "execution_count": 170,
     "metadata": {},
     "output_type": "execute_result"
    }
   ],
   "source": [
    "temp_experiment = experiment.experiments[0]\n",
    "\n",
    "temp_experiment.end_time, temp_experiment.start_time, temp_experiment.runs, temp_experiment.iteration, temp_experiment.duration"
   ]
  },
  {
   "cell_type": "code",
   "execution_count": null,
   "metadata": {},
   "outputs": [
    {
     "data": {
      "text/plain": [
       "([Decimal('38'), Decimal('41')], [Decimal('31'), Decimal('31')])"
      ]
     },
     "execution_count": 171,
     "metadata": {},
     "output_type": "execute_result"
    }
   ],
   "source": [
    "[x.value for x in temp_experiment.start_temperature.data], [x.value for x in temp_experiment.stop_temperature.data]"
   ]
  },
  {
   "cell_type": "code",
   "execution_count": null,
   "metadata": {},
   "outputs": [
    {
     "data": {
      "text/plain": [
       "([Decimal('57')], [Decimal('58')])"
      ]
     },
     "execution_count": 172,
     "metadata": {},
     "output_type": "execute_result"
    }
   ],
   "source": [
    "[x.value for x in temp_experiment.start_battery.data], [x.value for x in temp_experiment.stop_battery.data]"
   ]
  },
  {
   "cell_type": "code",
   "execution_count": null,
   "metadata": {},
   "outputs": [],
   "source": [
    "durations = [x.duration / x.runs for x in experiment.experiments]\n",
    "dram_avg = [x.CumulativeDramEnergyInJoules for x in experiment.experiments]\n",
    "gt_power_avg = [x.CumulativeGtEnergyInJoules for x in experiment.experiments]\n",
    "ai_power_avg = [x.CumulativeIaEnergyInJoules for x in experiment.experiments]\n",
    "processor_power_avg = [x.CumulativeProcessorEnergyInJoules for x in experiment.experiments]"
   ]
  },
  {
   "cell_type": "code",
   "execution_count": null,
   "metadata": {},
   "outputs": [
    {
     "data": {
      "text/plain": [
       "[30594788,\n",
       " 29881348,\n",
       " 30260436,\n",
       " 35434020,\n",
       " 29799132,\n",
       " 29972412,\n",
       " 29881714,\n",
       " 29934144,\n",
       " 30000854,\n",
       " 29851380,\n",
       " 29927308,\n",
       " 29920288,\n",
       " 29938538,\n",
       " 29966676,\n",
       " 30006652,\n",
       " 30004272,\n",
       " 31123352,\n",
       " 29978516,\n",
       " 29904480,\n",
       " 29925598,\n",
       " 30809020,\n",
       " 30380616,\n",
       " 30395020,\n",
       " 34762144,\n",
       " 29976624,\n",
       " 31257324,\n",
       " 29955504,\n",
       " 29946594,\n",
       " 29937684,\n",
       " 30700988,\n",
       " 30372008,\n",
       " 30637572,\n",
       " 36137816,\n",
       " 30290528,\n",
       " 30994934,\n",
       " 35204040,\n",
       " 29985352,\n",
       " 29972596,\n",
       " 30030640,\n",
       " 30604432,\n",
       " 29971008,\n",
       " 29998656,\n",
       " 31980530,\n",
       " 29890198,\n",
       " 29894592,\n",
       " 30276488,\n",
       " 30197328,\n",
       " 29979126,\n",
       " 30048156,\n",
       " 30115906,\n",
       " 29976318,\n",
       " 29925720,\n",
       " 29964660,\n",
       " 31329102,\n",
       " 29942748,\n",
       " 29968506,\n",
       " 29962402,\n",
       " 30210510,\n",
       " 30289428,\n",
       " 30406982,\n",
       " 35360108,\n",
       " 29872132,\n",
       " 30029602,\n",
       " 30110656,\n",
       " 29961244,\n",
       " 30078796,\n",
       " 30030152,\n",
       " 30048096,\n",
       " 30139588,\n",
       " 30049132,\n",
       " 31301024,\n",
       " 29965516,\n",
       " 29997560,\n",
       " 30282776,\n",
       " 30825012,\n",
       " 30339784,\n",
       " 31044006,\n",
       " 35999756,\n",
       " 30691406,\n",
       " 30633544,\n",
       " 30565430,\n",
       " 35724976]"
      ]
     },
     "execution_count": 174,
     "metadata": {},
     "output_type": "execute_result"
    }
   ],
   "source": [
    "dram_avg"
   ]
  },
  {
   "cell_type": "code",
   "execution_count": null,
   "metadata": {},
   "outputs": [],
   "source": [
    "def add_avg_and_std(values, dict, name, i):\n",
    "    dict[i][\"avg_\" + name] = sum(values) / len(values)  \n",
    "    dict[i][\"std_\" + name] = np.std(values) \n",
    "    dict[i][\"len_\" + name] = len(values) "
   ]
  },
  {
   "cell_type": "code",
   "execution_count": null,
   "metadata": {},
   "outputs": [],
   "source": [
    "def plot_for_key(values_to_plot, key, y_max):\n",
    "    plt.ylim(0,y_max)\n",
    "    x = [v for v in values_to_plot]\n",
    "    y = [values_to_plot[v][\"avg_\" + key] for v in values_to_plot]\n",
    "    e = [values_to_plot[v][\"std_\" + key] for v in values_to_plot]\n",
    "    \n",
    "    counts = [values_to_plot[v][\"len_\" + key] for v in values_to_plot]\n",
    "    \n",
    "    print(f\"The count: {counts}\")\n",
    "\n",
    "    plt.errorbar(x, y, e, linestyle='None', marker='.')"
   ]
  },
  {
   "cell_type": "code",
   "execution_count": null,
   "metadata": {},
   "outputs": [],
   "source": [
    "groups = defaultdict(list)\n",
    "values = defaultdict(dict)\n",
    "\n",
    "for obj in experiment.experiments:\n",
    "    groups[obj.iteration].append(obj)\n",
    "\n",
    "tuples_to_plot = []\n",
    "\n",
    "for g in groups:\n",
    "    if not g in values:\n",
    "        values[g] = {}\n",
    "    \n",
    "    durations = [x.duration / x.runs for x in groups[g]]\n",
    "    dram_avg = [x.AverageDramPowerInWatt for x in groups[g]]\n",
    "    gt_power_avg = [x.CumulativeGtEnergyInMwh for x in groups[g]]\n",
    "    ai_power_avg = [x.AverageIaPowerInWatt for x in groups[g]]\n",
    "    processor_power_avg = [x.AverageProcessorPowerWatt for x in groups[g]]\n",
    "    \n",
    "    # dram_avg = [x.CumulativeDramEnergyInJoules for x in groups[g]]\n",
    "    # gt_power_avg = [x.CumulativeGtEnergyInJoules for x in groups[g]]\n",
    "    # ai_power_avg = [x.CumulativeIaEnergyInJoules for x in groups[g]]\n",
    "    # processor_power_avg = [x.CumulativeProcessorEnergyInJoules for x in groups[g]]\n",
    "    \n",
    "    \n",
    "    add_avg_and_std(durations, values, \"duration\", g)\n",
    "    add_avg_and_std(dram_avg, values, \"dram\", g)\n",
    "    add_avg_and_std(gt_power_avg, values, \"gt\", g)\n",
    "    add_avg_and_std(ai_power_avg, values, \"ai\", g)\n",
    "    add_avg_and_std(processor_power_avg, values, \"processor\", g)\n",
    "\n"
   ]
  },
  {
   "cell_type": "code",
   "execution_count": null,
   "metadata": {},
   "outputs": [
    {
     "name": "stdout",
     "output_type": "stream",
     "text": [
      "The count: [6, 7, 7, 7, 2, 2, 2, 3, 3, 3, 3, 3, 3, 3, 3, 4, 4, 4, 4, 4, 1, 1, 1, 1, 1]\n"
     ]
    },
    {
     "data": {
      "image/png": "[encoded data removed]",
      "text/plain": [
       "<Figure size 640x480 with 1 Axes>"
      ]
     },
     "metadata": {},
     "output_type": "display_data"
    }
   ],
   "source": [
    "plot_for_key(values, \"processor\", 4000000)\n"
   ]
  },
  {
   "cell_type": "code",
   "execution_count": null,
   "metadata": {},
   "outputs": [
    {
     "name": "stdout",
     "output_type": "stream",
     "text": [
      "The count: [6, 7, 7, 7, 2, 2, 2, 3, 3, 3, 3, 3, 3, 3, 3, 4, 4, 4, 4, 4, 1, 1, 1, 1, 1]\n"
     ]
    },
    {
     "data": {
      "image/png": "[encoded data removed]",
      "text/plain": [
       "<Figure size 640x480 with 1 Axes>"
      ]
     },
     "metadata": {},
     "output_type": "display_data"
    }
   ],
   "source": [
    "plot_for_key(values, \"ai\", 2000000)\n"
   ]
  },
  {
   "cell_type": "code",
   "execution_count": null,
   "metadata": {},
   "outputs": [
    {
     "name": "stdout",
     "output_type": "stream",
     "text": [
      "The count: [6, 7, 7, 7, 2, 2, 2, 3, 3, 3, 3, 3, 3, 3, 3, 4, 4, 4, 4, 4, 1, 1, 1, 1, 1]\n"
     ]
    },
    {
     "data": {
      "image/png": "[encoded data removed]",
      "text/plain": [
       "<Figure size 640x480 with 1 Axes>"
      ]
     },
     "metadata": {},
     "output_type": "display_data"
    }
   ],
   "source": [
    "plot_for_key(values, \"duration\", 31000)"
   ]
  },
  {
   "cell_type": "code",
   "execution_count": null,
   "metadata": {},
   "outputs": [
    {
     "name": "stdout",
     "output_type": "stream",
     "text": [
      "The count: [6, 7, 7, 7, 2, 2, 2, 3, 3, 3, 3, 3, 3, 3, 3, 4, 4, 4, 4, 4, 1, 1, 1, 1, 1]\n"
     ]
    },
    {
     "data": {
      "image/png": "[encoded data removed]",
      "text/plain": [
       "<Figure size 640x480 with 1 Axes>"
      ]
     },
     "metadata": {},
     "output_type": "display_data"
    }
   ],
   "source": [
    "plot_for_key(values, \"dram\", 1000000)"
   ]
  },
  {
   "cell_type": "code",
   "execution_count": null,
   "metadata": {},
   "outputs": [
    {
     "name": "stdout",
     "output_type": "stream",
     "text": [
      "min: 0, max: 5, between: 2.5\n",
      "min: 5, max: 10, between: 7.5\n",
      "min: 10, max: 15, between: 12.5\n",
      "min: 15, max: 20, between: 17.5\n",
      "min: 20, max: 25, between: 22.5\n",
      "min: 25, max: 30, between: 27.5\n",
      "min: 30, max: 35, between: 32.5\n",
      "min: 35, max: 40, between: 37.5\n",
      "min: 40, max: 45, between: 42.5\n",
      "min: 45, max: 50, between: 47.5\n",
      "min: 50, max: 55, between: 52.5\n",
      "min: 55, max: 60, between: 57.5\n",
      "min: 60, max: 65, between: 62.5\n",
      "min: 65, max: 70, between: 67.5\n",
      "min: 70, max: 75, between: 72.5\n",
      "min: 75, max: 80, between: 77.5\n",
      "min: 80, max: 85, between: 82.5\n",
      "min: 85, max: 90, between: 87.5\n",
      "min: 90, max: 95, between: 92.5\n",
      "min: 95, max: 100, between: 97.5\n"
     ]
    }
   ],
   "source": [
    "# [x.value for x in temp_experiment.battery.data]\n",
    "min_bucket = 0\n",
    "max_bucket = 100\n",
    "bucket_size = 5\n",
    "\n",
    "last_value = 0\n",
    "\n",
    "for i in range(min_bucket + bucket_size, max_bucket + 1, bucket_size):\n",
    "    print(f\"min: {last_value}, max: {i}, between: {((i - last_value) / 2) + last_value}\")\n",
    "    last_value = i\n",
    "\n"
   ]
  }
 ],
 "metadata": {
  "kernelspec": {
   "display_name": "Python 3.10.7 ('env': venv)",
   "language": "python",
   "name": "python3"
  },
  "language_info": {
   "codemirror_mode": {
    "name": "ipython",
    "version": 3
   },
   "file_extension": ".py",
   "mimetype": "text/x-python",
   "name": "python",
   "nbconvert_exporter": "python",
   "pygments_lexer": "ipython3",
   "version": "3.10.7"
  },
  "orig_nbformat": 4,
  "vscode": {
   "interpreter": {
    "hash": "60380eae6fee6fe3e26702bf53f19a085732533ec180dcbfbb77d4155bad62bb"
   }
  }
 },
 "nbformat": 4,
 "nbformat_minor": 2
}
