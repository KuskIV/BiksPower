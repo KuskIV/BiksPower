{
 "cells": [
  {
   "cell_type": "code",
   "execution_count": 1,
   "metadata": {},
   "outputs": [],
   "source": [
    "import numpy as np\n",
    "from utils.database_repository import DataRepository\n",
    "from utils.objects import *\n",
    "import matplotlib.pyplot as plt\n",
    "from collections import defaultdict\n",
    "import numpy as np"
   ]
  },
  {
   "cell_type": "code",
   "execution_count": 2,
   "metadata": {},
   "outputs": [
    {
     "name": "stdout",
     "output_type": "stream",
     "text": [
      "Connected to MySQL Server version  5.7.39-42-log\n"
     ]
    }
   ],
   "source": [
    "repository = DataRepository()"
   ]
  },
  {
   "cell_type": "code",
   "execution_count": 3,
   "metadata": {},
   "outputs": [],
   "source": [
    "dut_os = \"Win32NT\"\n",
    "profiler_name = \"IntelPowerGadget\"\n",
    "\n",
    "dut_name = \"Surface4Pro\"\n",
    "test_case_name = \"IdleCase\"#\"DiningPhilosophers\"\n",
    "\n",
    "min_temp = 0\n",
    "max_temp = 200\n",
    "\n",
    "min_battery = 1\n",
    "max_battery = 100\n",
    "\n",
    "between = 0\n",
    "duration = 2\n",
    "\n",
    "version = 5\n",
    "\n",
    "language = \"CSharp\"\n",
    "env = \"PROD\"\n",
    "\n",
    "limit = 200"
   ]
  },
  {
   "cell_type": "code",
   "execution_count": 4,
   "metadata": {},
   "outputs": [
    {
     "data": {
      "text/plain": [
       "(1, 'IntelPowerGadget')"
      ]
     },
     "execution_count": 4,
     "metadata": {},
     "output_type": "execute_result"
    }
   ],
   "source": [
    "energy_profiler = EnergyProfiler(profiler_name, repository)\n",
    "\n",
    "energy_profiler.id, energy_profiler.energy_profiler_name\n"
   ]
  },
  {
   "cell_type": "code",
   "execution_count": 5,
   "metadata": {},
   "outputs": [
    {
     "data": {
      "text/plain": [
       "(6, 'Surface4Pro', 'Win32NT')"
      ]
     },
     "execution_count": 5,
     "metadata": {},
     "output_type": "execute_result"
    }
   ],
   "source": [
    "dut = Dut(dut_name, dut_os, repository)\n",
    "\n",
    "dut.id, dut.dut_name, dut.dut_os"
   ]
  },
  {
   "cell_type": "code",
   "execution_count": 6,
   "metadata": {},
   "outputs": [
    {
     "data": {
      "text/plain": [
       "(14, 1, 100, 0, 200, 5, 'PROD', 2, 0)"
      ]
     },
     "execution_count": 6,
     "metadata": {},
     "output_type": "execute_result"
    }
   ],
   "source": [
    "config = Configuration(min_temp, max_temp, min_battery, max_battery, duration, between, version, repository, env)\n",
    "\n",
    "config.id, config.min_battery, config.max_battery, config.min_temp, config.max_temp, config.version, config.env, config.duration, config.between"
   ]
  },
  {
   "cell_type": "code",
   "execution_count": 7,
   "metadata": {},
   "outputs": [
    {
     "data": {
      "text/plain": [
       "(3, 'IdleCase')"
      ]
     },
     "execution_count": 7,
     "metadata": {},
     "output_type": "execute_result"
    }
   ],
   "source": [
    "test_case = TestCase(test_case_name, repository)\n",
    "test_case.id, test_case.test_case_name"
   ]
  },
  {
   "cell_type": "code",
   "execution_count": 8,
   "metadata": {},
   "outputs": [
    {
     "data": {
      "text/plain": [
       "(113, 14, 6, 'CSharp', 3, 200)"
      ]
     },
     "execution_count": 8,
     "metadata": {},
     "output_type": "execute_result"
    }
   ],
   "source": [
    "experiment = Experiment(config.id, dut.id, test_case.id, language, repository, 200)\n",
    "len(experiment.experiments), experiment.config_id, experiment.dut_id, experiment.language, experiment.test_case_id, experiment.count\n"
   ]
  },
  {
   "cell_type": "code",
   "execution_count": 9,
   "metadata": {},
   "outputs": [
    {
     "data": {
      "text/plain": [
       "(datetime.datetime(2022, 10, 25, 11, 41, 6, 843279),\n",
       " datetime.datetime(2022, 10, 25, 11, 39, 6, 784231),\n",
       " 382,\n",
       " 23,\n",
       " 120037)"
      ]
     },
     "execution_count": 9,
     "metadata": {},
     "output_type": "execute_result"
    }
   ],
   "source": [
    "temp_experiment = experiment.experiments[0]\n",
    "\n",
    "temp_experiment.end_time, temp_experiment.start_time, temp_experiment.runs, temp_experiment.iteration, temp_experiment.duration"
   ]
  },
  {
   "cell_type": "code",
   "execution_count": 10,
   "metadata": {},
   "outputs": [
    {
     "data": {
      "text/plain": [
       "([Decimal('36'), Decimal('35')], [Decimal('32'), Decimal('33')])"
      ]
     },
     "execution_count": 10,
     "metadata": {},
     "output_type": "execute_result"
    }
   ],
   "source": [
    "[x.value for x in temp_experiment.start_temperature.data], [x.value for x in temp_experiment.stop_temperature.data]"
   ]
  },
  {
   "cell_type": "code",
   "execution_count": 11,
   "metadata": {},
   "outputs": [
    {
     "data": {
      "text/plain": [
       "([Decimal('4')], [Decimal('3')])"
      ]
     },
     "execution_count": 11,
     "metadata": {},
     "output_type": "execute_result"
    }
   ],
   "source": [
    "[x.value for x in temp_experiment.start_battery.data], [x.value for x in temp_experiment.stop_battery.data]"
   ]
  },
  {
   "cell_type": "code",
   "execution_count": 12,
   "metadata": {},
   "outputs": [],
   "source": [
    "durations = [x.duration / x.runs for x in experiment.experiments]\n",
    "dram_avg = [x.AverageDRAMPower0InWatt for x in experiment.experiments]\n",
    "gt_power_avg = [x.AverageGTPower0InWatt for x in experiment.experiments]\n",
    "ai_power_avg = [x.AverageIAPower0InWatt for x in experiment.experiments]\n",
    "processor_power_avg = [x.AverageProcessorPower0InWatt for x in experiment.experiments]"
   ]
  },
  {
   "cell_type": "code",
   "execution_count": 13,
   "metadata": {},
   "outputs": [],
   "source": [
    "def add_avg_and_std(values, dict, name, i):\n",
    "    dict[i][\"avg_\" + name] = sum(values) / len(values)  \n",
    "    dict[i][\"std_\" + name] = np.std(values) \n",
    "    dict[i][\"len_\" + name] = len(values) "
   ]
  },
  {
   "cell_type": "code",
   "execution_count": 14,
   "metadata": {},
   "outputs": [],
   "source": [
    "def plot_for_key(values_to_plot, key, y_max):\n",
    "    plt.ylim(0,y_max)\n",
    "    x = [v for v in values_to_plot]\n",
    "    y = [values_to_plot[v][\"avg_\" + key] for v in values_to_plot]\n",
    "    e = [values_to_plot[v][\"std_\" + key] for v in values_to_plot]\n",
    "    \n",
    "    counts = [values_to_plot[v][\"len_\" + key] for v in values_to_plot]\n",
    "    \n",
    "    print(f\"The count: {counts}\")\n",
    "\n",
    "    plt.errorbar(x, y, e, linestyle='None', marker='.')"
   ]
  },
  {
   "cell_type": "code",
   "execution_count": 15,
   "metadata": {},
   "outputs": [],
   "source": [
    "groups = defaultdict(list)\n",
    "values = defaultdict(dict)\n",
    "\n",
    "for obj in experiment.experiments:\n",
    "    groups[obj.iteration].append(obj)\n",
    "\n",
    "tuples_to_plot = []\n",
    "\n",
    "for g in groups:\n",
    "    if not g in values:\n",
    "        values[g] = {}\n",
    "    \n",
    "    durations = [x.duration / x.runs for x in groups[g]]\n",
    "    dram_avg = [x.AverageDRAMPower0InWatt for x in groups[g]]\n",
    "    gt_power_avg = [x.AverageGTPower0InWatt for x in groups[g]]\n",
    "    ai_power_avg = [x.AverageIAPower0InWatt for x in groups[g]]\n",
    "    processor_power_avg = [x.AverageProcessorPower0InWatt for x in groups[g]]\n",
    "    \n",
    "    add_avg_and_std(durations, values, \"duration\", g)\n",
    "    add_avg_and_std(dram_avg, values, \"dram\", g)\n",
    "    add_avg_and_std(gt_power_avg, values, \"gt\", g)\n",
    "    add_avg_and_std(ai_power_avg, values, \"ai\", g)\n",
    "    add_avg_and_std(processor_power_avg, values, \"processor\", g)\n",
    "\n"
   ]
  },
  {
   "cell_type": "code",
   "execution_count": 16,
   "metadata": {},
   "outputs": [
    {
     "name": "stdout",
     "output_type": "stream",
     "text": [
      "The count: [4, 4, 4, 4, 4, 4, 4, 4, 4, 4, 4, 4, 4, 4, 4, 4, 4, 4, 4, 4, 4, 4, 4, 3, 3, 3, 3, 3, 3, 3]\n"
     ]
    },
    {
     "data": {
      "image/png": "[encoded data removed]",
      "text/plain": [
       "<Figure size 640x480 with 1 Axes>"
      ]
     },
     "metadata": {},
     "output_type": "display_data"
    }
   ],
   "source": [
    "plot_for_key(values, \"processor\", 2000000)\n"
   ]
  },
  {
   "cell_type": "code",
   "execution_count": 17,
   "metadata": {},
   "outputs": [
    {
     "name": "stdout",
     "output_type": "stream",
     "text": [
      "The count: [4, 4, 4, 4, 4, 4, 4, 4, 4, 4, 4, 4, 4, 4, 4, 4, 4, 4, 4, 4, 4, 4, 4, 3, 3, 3, 3, 3, 3, 3]\n"
     ]
    },
    {
     "data": {
      "image/png": "[encoded data removed]",
      "text/plain": [
       "<Figure size 640x480 with 1 Axes>"
      ]
     },
     "metadata": {},
     "output_type": "display_data"
    }
   ],
   "source": [
    "plot_for_key(values, \"ai\", 800000)\n"
   ]
  },
  {
   "cell_type": "code",
   "execution_count": 18,
   "metadata": {},
   "outputs": [
    {
     "name": "stdout",
     "output_type": "stream",
     "text": [
      "The count: [4, 4, 4, 4, 4, 4, 4, 4, 4, 4, 4, 4, 4, 4, 4, 4, 4, 4, 4, 4, 4, 4, 4, 3, 3, 3, 3, 3, 3, 3]\n"
     ]
    },
    {
     "data": {
      "image/png": "[encoded data removed]",
      "text/plain": [
       "<Figure size 640x480 with 1 Axes>"
      ]
     },
     "metadata": {},
     "output_type": "display_data"
    }
   ],
   "source": [
    "plot_for_key(values, \"duration\", 600)"
   ]
  },
  {
   "cell_type": "code",
   "execution_count": 19,
   "metadata": {},
   "outputs": [
    {
     "name": "stdout",
     "output_type": "stream",
     "text": [
      "The count: [4, 4, 4, 4, 4, 4, 4, 4, 4, 4, 4, 4, 4, 4, 4, 4, 4, 4, 4, 4, 4, 4, 4, 3, 3, 3, 3, 3, 3, 3]\n"
     ]
    },
    {
     "data": {
      "image/png": "[encoded data removed]",
      "text/plain": [
       "<Figure size 640x480 with 1 Axes>"
      ]
     },
     "metadata": {},
     "output_type": "display_data"
    }
   ],
   "source": [
    "plot_for_key(values, \"dram\", 600000)"
   ]
  },
  {
   "cell_type": "code",
   "execution_count": 29,
   "metadata": {},
   "outputs": [
    {
     "name": "stdout",
     "output_type": "stream",
     "text": [
      "min: 0, max: 5, between: 2.5\n",
      "min: 5, max: 10, between: 7.5\n",
      "min: 10, max: 15, between: 12.5\n",
      "min: 15, max: 20, between: 17.5\n",
      "min: 20, max: 25, between: 22.5\n",
      "min: 25, max: 30, between: 27.5\n",
      "min: 30, max: 35, between: 32.5\n",
      "min: 35, max: 40, between: 37.5\n",
      "min: 40, max: 45, between: 42.5\n",
      "min: 45, max: 50, between: 47.5\n",
      "min: 50, max: 55, between: 52.5\n",
      "min: 55, max: 60, between: 57.5\n",
      "min: 60, max: 65, between: 62.5\n",
      "min: 65, max: 70, between: 67.5\n",
      "min: 70, max: 75, between: 72.5\n",
      "min: 75, max: 80, between: 77.5\n",
      "min: 80, max: 85, between: 82.5\n",
      "min: 85, max: 90, between: 87.5\n",
      "min: 90, max: 95, between: 92.5\n",
      "min: 95, max: 100, between: 97.5\n"
     ]
    }
   ],
   "source": [
    "# [x.value for x in temp_experiment.battery.data]\n",
    "min_bucket = 0\n",
    "max_bucket = 100\n",
    "bucket_size = 5\n",
    "\n",
    "last_value = 0\n",
    "\n",
    "for i in range(min_bucket + bucket_size, max_bucket + 1, bucket_size):\n",
    "    print(f\"min: {last_value}, max: {i}, between: {((i - last_value) / 2) + last_value}\")\n",
    "    last_value = i\n",
    "\n"
   ]
  }
 ],
 "metadata": {
  "kernelspec": {
   "display_name": "Python 3.10.7 ('env': venv)",
   "language": "python",
   "name": "python3"
  },
  "language_info": {
   "codemirror_mode": {
    "name": "ipython",
    "version": 3
   },
   "file_extension": ".py",
   "mimetype": "text/x-python",
   "name": "python",
   "nbconvert_exporter": "python",
   "pygments_lexer": "ipython3",
   "version": "3.10.7"
  },
  "orig_nbformat": 4,
  "vscode": {
   "interpreter": {
    "hash": "60380eae6fee6fe3e26702bf53f19a085732533ec180dcbfbb77d4155bad62bb"
   }
  }
 },
 "nbformat": 4,
 "nbformat_minor": 2
}
