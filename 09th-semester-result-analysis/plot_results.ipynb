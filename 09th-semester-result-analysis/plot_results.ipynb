{
 "cells": [
  {
   "cell_type": "code",
   "execution_count": 1,
   "metadata": {},
   "outputs": [],
   "source": [
    "import numpy as np\n",
    "from utils.database_repository import DataRepository\n",
    "from utils.objects import *"
   ]
  },
  {
   "cell_type": "code",
   "execution_count": 2,
   "metadata": {},
   "outputs": [
    {
     "name": "stdout",
     "output_type": "stream",
     "text": [
      "Connected to MySQL Server version  5.7.39-42-log\n"
     ]
    }
   ],
   "source": [
    "repository = DataRepository()"
   ]
  },
  {
   "cell_type": "code",
   "execution_count": 3,
   "metadata": {},
   "outputs": [],
   "source": [
    "test_case_name = \"DiningPhilosophers\"\n",
    "dut_name = \"Surface4Pro\"\n",
    "dut_os = \"Win32NT\"\n",
    "profiler_name = \"IntelPowerGadget\"\n",
    "\n",
    "min_temp = 0\n",
    "max_temp = 200\n",
    "\n",
    "min_battery = 1\n",
    "max_battery = 100\n",
    "\n",
    "between = 0\n",
    "duration = 2\n",
    "\n",
    "version = 2\n",
    "\n",
    "language = \"CSharp\""
   ]
  },
  {
   "cell_type": "code",
   "execution_count": 4,
   "metadata": {},
   "outputs": [
    {
     "name": "stdout",
     "output_type": "stream",
     "text": [
      "(1, 'IntelPowerGadget')\n"
     ]
    }
   ],
   "source": [
    "energy_profiler = EnergyProfiler(profiler_name, repository)\n",
    "dut = Dut(dut_name, dut_os, repository)\n",
    "config = Configuration(min_temp, max_temp, min_battery, max_battery, duration, between, version, repository)\n",
    "test_case = TestCase(test_case_name, repository)\n",
    "\n",
    "experiment = Experiment(config.id, dut.id, test_case.id, language, repository)\n",
    "\n",
    "\n"
   ]
  },
  {
   "cell_type": "code",
   "execution_count": null,
   "metadata": {},
   "outputs": [],
   "source": []
  },
  {
   "cell_type": "code",
   "execution_count": 5,
   "metadata": {},
   "outputs": [],
   "source": [
    "# repository.query(\"SELECT * FROM RawData\")"
   ]
  }
 ],
 "metadata": {
  "kernelspec": {
   "display_name": "Python 3.10.7 ('env': venv)",
   "language": "python",
   "name": "python3"
  },
  "language_info": {
   "codemirror_mode": {
    "name": "ipython",
    "version": 3
   },
   "file_extension": ".py",
   "mimetype": "text/x-python",
   "name": "python",
   "nbconvert_exporter": "python",
   "pygments_lexer": "ipython3",
   "version": "3.10.7"
  },
  "orig_nbformat": 4,
  "vscode": {
   "interpreter": {
    "hash": "60380eae6fee6fe3e26702bf53f19a085732533ec180dcbfbb77d4155bad62bb"
   }
  }
 },
 "nbformat": 4,
 "nbformat_minor": 2
}
