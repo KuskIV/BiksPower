{
 "cells": [
  {
   "cell_type": "code",
   "execution_count": 22,
   "metadata": {},
   "outputs": [],
   "source": [
    "import numpy as np\n",
    "from utils.database_repository import DataRepository\n",
    "from utils.objects import *\n",
    "import matplotlib.pyplot as plt\n",
    "from collections import defaultdict\n",
    "import numpy as np"
   ]
  },
  {
   "cell_type": "code",
   "execution_count": 23,
   "metadata": {},
   "outputs": [
    {
     "name": "stdout",
     "output_type": "stream",
     "text": [
      "Connected to MySQL Server version  5.7.39-42-log\n"
     ]
    }
   ],
   "source": [
    "repository = DataRepository()"
   ]
  },
  {
   "cell_type": "code",
   "execution_count": 24,
   "metadata": {},
   "outputs": [],
   "source": [
    "test_case_name = \"DiningPhilosophers\"\n",
    "dut_name = \"Surface4Pro\"\n",
    "dut_os = \"Win32NT\"\n",
    "profiler_name = \"IntelPowerGadget\"\n",
    "\n",
    "min_temp = 0\n",
    "max_temp = 200\n",
    "\n",
    "min_battery = 1\n",
    "max_battery = 100\n",
    "\n",
    "between = 0\n",
    "duration = 2\n",
    "\n",
    "version = 4\n",
    "\n",
    "language = \"CSharp\"\n",
    "env = \"PROD\"\n",
    "\n",
    "limit = 200"
   ]
  },
  {
   "cell_type": "code",
   "execution_count": 25,
   "metadata": {},
   "outputs": [
    {
     "data": {
      "text/plain": [
       "(1, 'IntelPowerGadget')"
      ]
     },
     "execution_count": 25,
     "metadata": {},
     "output_type": "execute_result"
    }
   ],
   "source": [
    "energy_profiler = EnergyProfiler(profiler_name, repository)\n",
    "\n",
    "energy_profiler.id, energy_profiler.energy_profiler_name\n"
   ]
  },
  {
   "cell_type": "code",
   "execution_count": 26,
   "metadata": {},
   "outputs": [
    {
     "data": {
      "text/plain": [
       "(6, 'Surface4Pro', 'Win32NT')"
      ]
     },
     "execution_count": 26,
     "metadata": {},
     "output_type": "execute_result"
    }
   ],
   "source": [
    "dut = Dut(dut_name, dut_os, repository)\n",
    "\n",
    "dut.id, dut.dut_name, dut.dut_os"
   ]
  },
  {
   "cell_type": "code",
   "execution_count": 27,
   "metadata": {},
   "outputs": [
    {
     "data": {
      "text/plain": [
       "(13, 1, 100, 0, 200, 4, 'PROD', 2, 0)"
      ]
     },
     "execution_count": 27,
     "metadata": {},
     "output_type": "execute_result"
    }
   ],
   "source": [
    "config = Configuration(min_temp, max_temp, min_battery, max_battery, duration, between, version, repository, env)\n",
    "\n",
    "config.id, config.min_battery, config.max_battery, config.min_temp, config.max_temp, config.version, config.env, config.duration, config.between"
   ]
  },
  {
   "cell_type": "code",
   "execution_count": 28,
   "metadata": {},
   "outputs": [
    {
     "data": {
      "text/plain": [
       "(2, 'DiningPhilosophers')"
      ]
     },
     "execution_count": 28,
     "metadata": {},
     "output_type": "execute_result"
    }
   ],
   "source": [
    "test_case = TestCase(test_case_name, repository)\n",
    "test_case.id, test_case.test_case_name"
   ]
  },
  {
   "cell_type": "code",
   "execution_count": 29,
   "metadata": {},
   "outputs": [
    {
     "data": {
      "text/plain": [
       "(28, 13, 6, 'CSharp', 2, 200)"
      ]
     },
     "execution_count": 29,
     "metadata": {},
     "output_type": "execute_result"
    }
   ],
   "source": [
    "experiment = Experiment(config.id, dut.id, test_case.id, language, repository, 200)\n",
    "len(experiment.experiments), experiment.config_id, experiment.dut_id, experiment.language, experiment.test_case_id, experiment.count\n"
   ]
  },
  {
   "cell_type": "code",
   "execution_count": 30,
   "metadata": {},
   "outputs": [
    {
     "data": {
      "text/plain": [
       "(datetime.datetime(2022, 10, 24, 13, 51, 40, 665297),\n",
       " datetime.datetime(2022, 10, 24, 13, 49, 24, 145943),\n",
       " 261,\n",
       " 6,\n",
       " 120989)"
      ]
     },
     "execution_count": 30,
     "metadata": {},
     "output_type": "execute_result"
    }
   ],
   "source": [
    "temp_experiment = experiment.experiments[0]\n",
    "\n",
    "temp_experiment.end_time, temp_experiment.start_time, temp_experiment.runs, temp_experiment.iteration, temp_experiment.duration"
   ]
  },
  {
   "cell_type": "code",
   "execution_count": 31,
   "metadata": {},
   "outputs": [
    {
     "data": {
      "text/plain": [
       "[6,\n",
       " 5,\n",
       " 4,\n",
       " 3,\n",
       " 2,\n",
       " 1,\n",
       " 5,\n",
       " 4,\n",
       " 3,\n",
       " 2,\n",
       " 1,\n",
       " 16,\n",
       " 15,\n",
       " 14,\n",
       " 13,\n",
       " 12,\n",
       " 11,\n",
       " 10,\n",
       " 9,\n",
       " 8,\n",
       " 7,\n",
       " 6,\n",
       " 5,\n",
       " 4,\n",
       " 3,\n",
       " 2,\n",
       " 1,\n",
       " 1]"
      ]
     },
     "execution_count": 31,
     "metadata": {},
     "output_type": "execute_result"
    }
   ],
   "source": [
    "durations = [x.duration / x.runs for x in experiment.experiments]\n",
    "dram_avg = [x.AverageDRAMPower0InWatt for x in experiment.experiments]\n",
    "gt_power_avg = [x.AverageGTPower0InWatt for x in experiment.experiments]\n",
    "ai_power_avg = [x.AverageIAPower0InWatt for x in experiment.experiments]\n",
    "processor_power_avg = [x.AverageProcessorPower0InWatt for x in experiment.experiments]\n",
    "\n",
    "durations, dram_avg, ai_power_avg, processor_power_avg\n",
    "\n",
    "[x.iteration for x in experiment.experiments]"
   ]
  },
  {
   "cell_type": "code",
   "execution_count": 32,
   "metadata": {},
   "outputs": [
    {
     "data": {
      "image/png": "[encoded data removed]",
      "text/plain": [
       "<Figure size 640x480 with 1 Axes>"
      ]
     },
     "metadata": {},
     "output_type": "display_data"
    }
   ],
   "source": [
    "\n",
    "\n",
    "tuples_to_plot = [(x.iteration, x.duration / x.runs) for x in experiment.experiments]\n",
    "\n",
    "plt.scatter(*zip(*tuples_to_plot))\n",
    "plt.ylim(0,600)\n",
    "plt.show()"
   ]
  },
  {
   "cell_type": "code",
   "execution_count": 33,
   "metadata": {},
   "outputs": [],
   "source": [
    "def add_avg_and_std(values, dict, name, i):\n",
    "    dict[i][\"avg_\" + name] = sum(values) / len(values)  \n",
    "    dict[i][\"std_\" + name] = np.std(values) \n",
    "    dict[i][\"len_\" + name] = len(values) "
   ]
  },
  {
   "cell_type": "code",
   "execution_count": 34,
   "metadata": {},
   "outputs": [],
   "source": [
    "def plot_for_key(values_to_plot, key, y_max):\n",
    "    plt.ylim(0,y_max)\n",
    "    x = [v for v in values_to_plot]\n",
    "    y = [values_to_plot[v][\"avg_\" + key] for v in values_to_plot]\n",
    "    e = [values_to_plot[v][\"std_\" + key] for v in values_to_plot]\n",
    "    \n",
    "    counts = [values_to_plot[v][\"len_\" + key] for v in values_to_plot]\n",
    "    \n",
    "    print(f\"The count: {counts}\")\n",
    "\n",
    "    plt.errorbar(x, y, e, linestyle='None', marker='.')"
   ]
  },
  {
   "cell_type": "code",
   "execution_count": 35,
   "metadata": {},
   "outputs": [],
   "source": [
    "from audioop import avg\n",
    "\n",
    "\n",
    "groups = defaultdict(list)\n",
    "values = defaultdict(dict)\n",
    "\n",
    "for obj in experiment.experiments:\n",
    "    groups[obj.iteration].append(obj)\n",
    "\n",
    "tuples_to_plot = []\n",
    "\n",
    "for g in groups:\n",
    "    if not g in values:\n",
    "        values[g] = {}\n",
    "    \n",
    "    durations = [x.duration / x.runs for x in groups[g]]\n",
    "    dram_avg = [x.AverageDRAMPower0InWatt for x in experiment.experiments]\n",
    "    gt_power_avg = [x.AverageGTPower0InWatt for x in experiment.experiments]\n",
    "    ai_power_avg = [x.AverageIAPower0InWatt for x in experiment.experiments]\n",
    "    processor_power_avg = [x.AverageProcessorPower0InWatt for x in experiment.experiments]\n",
    "    \n",
    "    add_avg_and_std(durations, values, \"duration\", g)\n",
    "    add_avg_and_std(dram_avg, values, \"dram\", g)\n",
    "    add_avg_and_std(gt_power_avg, values, \"gt\", g)\n",
    "    add_avg_and_std(ai_power_avg, values, \"ai\", g)\n",
    "    add_avg_and_std(processor_power_avg, values, \"processor\", g)\n",
    "\n"
   ]
  },
  {
   "cell_type": "code",
   "execution_count": 36,
   "metadata": {},
   "outputs": [
    {
     "name": "stdout",
     "output_type": "stream",
     "text": [
      "The count: [28, 28, 28, 28, 28, 28, 28, 28, 28, 28, 28, 28, 28, 28, 28, 28]\n"
     ]
    },
    {
     "data": {
      "image/png": "[encoded data removed]",
      "text/plain": [
       "<Figure size 640x480 with 1 Axes>"
      ]
     },
     "metadata": {},
     "output_type": "display_data"
    }
   ],
   "source": [
    "plot_for_key(values, \"processor\", 1000000)\n"
   ]
  },
  {
   "cell_type": "code",
   "execution_count": 37,
   "metadata": {},
   "outputs": [
    {
     "name": "stdout",
     "output_type": "stream",
     "text": [
      "The count: [28, 28, 28, 28, 28, 28, 28, 28, 28, 28, 28, 28, 28, 28, 28, 28]\n"
     ]
    },
    {
     "data": {
      "image/png": "[encoded data removed]",
      "text/plain": [
       "<Figure size 640x480 with 1 Axes>"
      ]
     },
     "metadata": {},
     "output_type": "display_data"
    }
   ],
   "source": [
    "plot_for_key(values, \"ai\", 550000)\n"
   ]
  },
  {
   "cell_type": "code",
   "execution_count": 38,
   "metadata": {},
   "outputs": [
    {
     "name": "stdout",
     "output_type": "stream",
     "text": [
      "The count: [2, 3, 3, 3, 3, 4, 1, 1, 1, 1, 1, 1, 1, 1, 1, 1]\n"
     ]
    },
    {
     "data": {
      "image/png": "[encoded data removed]",
      "text/plain": [
       "<Figure size 640x480 with 1 Axes>"
      ]
     },
     "metadata": {},
     "output_type": "display_data"
    }
   ],
   "source": [
    "plot_for_key(values, \"duration\", 600)"
   ]
  },
  {
   "cell_type": "code",
   "execution_count": 39,
   "metadata": {},
   "outputs": [
    {
     "name": "stdout",
     "output_type": "stream",
     "text": [
      "The count: [28, 28, 28, 28, 28, 28, 28, 28, 28, 28, 28, 28, 28, 28, 28, 28]\n"
     ]
    },
    {
     "data": {
      "image/png": "[encoded data removed]",
      "text/plain": [
       "<Figure size 640x480 with 1 Axes>"
      ]
     },
     "metadata": {},
     "output_type": "display_data"
    }
   ],
   "source": [
    "plot_for_key(values, \"dram\", 550000)"
   ]
  }
 ],
 "metadata": {
  "kernelspec": {
   "display_name": "Python 3.10.7 ('env': venv)",
   "language": "python",
   "name": "python3"
  },
  "language_info": {
   "codemirror_mode": {
    "name": "ipython",
    "version": 3
   },
   "file_extension": ".py",
   "mimetype": "text/x-python",
   "name": "python",
   "nbconvert_exporter": "python",
   "pygments_lexer": "ipython3",
   "version": "3.10.7"
  },
  "orig_nbformat": 4,
  "vscode": {
   "interpreter": {
    "hash": "60380eae6fee6fe3e26702bf53f19a085732533ec180dcbfbb77d4155bad62bb"
   }
  }
 },
 "nbformat": 4,
 "nbformat_minor": 2
}
