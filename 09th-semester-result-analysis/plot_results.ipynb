{
 "cells": [
  {
   "cell_type": "code",
   "execution_count": 1,
   "metadata": {},
   "outputs": [],
   "source": [
    "import numpy as np\n",
    "from utils.database_repository import DataRepository\n",
    "from utils.objects import *\n",
    "import matplotlib.pyplot as plt\n",
    "from collections import defaultdict\n",
    "import numpy as np\n",
    "import time\n",
    "from datetime import datetime"
   ]
  },
  {
   "cell_type": "code",
   "execution_count": 11,
   "metadata": {},
   "outputs": [
    {
     "name": "stdout",
     "output_type": "stream",
     "text": [
      "Connected to MySQL Server version  5.7.39-42-log\n"
     ]
    }
   ],
   "source": [
    "repository = DataRepository()"
   ]
  },
  {
   "cell_type": "code",
   "execution_count": 3,
   "metadata": {},
   "outputs": [],
   "source": [
    "# CONFIGURATION\n",
    "min_temp = 0\n",
    "max_temp = 200\n",
    "\n",
    "min_battery = 3\n",
    "max_battery = 95\n",
    "\n",
    "between = 2\n",
    "duration = 1\n",
    "\n",
    "language = \"CSharp\"\n",
    "\n",
    "env = \"PROD\"\n",
    "\n",
    "limit = 200\n",
    "\n",
    "\n",
    "## OS\n",
    "windows_os = \"Win32NT\"\n",
    "linux_os = \"Unix\"\n",
    "\n",
    "os = [\n",
    "    windows_os,\n",
    "    linux_os\n",
    "    ]\n",
    "\n",
    "## Test cases\n",
    "idle_case = \"TestCaseIdle\"\n",
    "dining_philosophers = \"DiningPhilosophers\"\n",
    "binary_tress = \"BinaryTrees\"\n",
    "reverse_complement = \"ReverseComplement\"\n",
    "fannkuch_redux = \"FannkuchRedux\"\n",
    "n_body = \"Nbody\"\n",
    "fasta = \"Fasta\"\n",
    "\n",
    "test_cases = [\n",
    "    idle_case,\n",
    "    dining_philosophers,\n",
    "    binary_tress,\n",
    "    reverse_complement,\n",
    "    fannkuch_redux,\n",
    "    n_body,\n",
    "    fasta\n",
    "]\n",
    "\n",
    "## Profilers\n",
    "intel_power_gadget = \"IntelPowerGadget\"\n",
    "rapl = \"RAPL\"\n",
    "hardware_monitor = \"HardwareMonitor\"\n",
    "clamp = \"Clamp\"\n",
    "e3 = \"E3\"\n",
    "\n",
    "\n",
    "profilers = [\n",
    "    intel_power_gadget,\n",
    "    rapl,\n",
    "    hardware_monitor,\n",
    "    clamp,\n",
    "    e3\n",
    "]\n",
    "\n",
    "## DUT\n",
    "surface_pro_4 = \"Surface4Pro\"\n",
    "surface_book = \"SurfaceBook\"\n",
    "power_komplett = \"PowerKomplett\"\n",
    "\n",
    "duts = [\n",
    "    surface_pro_4,\n",
    "    surface_book,\n",
    "    power_komplett\n",
    "]\n",
    "\n",
    "dut_version = {\n",
    "    surface_book : {\n",
    "            windows_os : 4,\n",
    "            linux_os : 1\n",
    "        },\n",
    "    surface_pro_4 : {\n",
    "        windows_os : 10,\n",
    "        linux_os : 1,\n",
    "    },\n",
    "    power_komplett : {\n",
    "        windows_os : 5,\n",
    "        linux_os : 1,\n",
    "    }\n",
    "}"
   ]
  },
  {
   "cell_type": "code",
   "execution_count": null,
   "metadata": {},
   "outputs": [],
   "source": []
  },
  {
   "cell_type": "code",
   "execution_count": 16,
   "metadata": {},
   "outputs": [
    {
     "name": "stdout",
     "output_type": "stream",
     "text": [
      "<class 'dict'>\n",
      "<class 'dict'>\n",
      "yoot\n"
     ]
    },
    {
     "ename": "KeyError",
     "evalue": "<utils.objects.EnergyProfiler object at 0x000001EDFF8154E0>",
     "output_type": "error",
     "traceback": [
      "\u001b[1;31m---------------------------------------------------------------------------\u001b[0m",
      "\u001b[1;31mKeyError\u001b[0m                                  Traceback (most recent call last)",
      "Cell \u001b[1;32mIn [16], line 33\u001b[0m\n\u001b[0;32m     31\u001b[0m \u001b[39mprint\u001b[39m(\u001b[39m\"\u001b[39m\u001b[39myoot\u001b[39m\u001b[39m\"\u001b[39m)\n\u001b[0;32m     32\u001b[0m \u001b[39m# data[d][version][o][t][profiler][\"config\"] = config\u001b[39;00m\n\u001b[1;32m---> 33\u001b[0m data[d][version][o][t][profiler][\u001b[39m\"\u001b[39m\u001b[39mprofiler\u001b[39m\u001b[39m\"\u001b[39m] \u001b[39m=\u001b[39m profiler\n\u001b[0;32m     34\u001b[0m data[d][version][o][t][profiler][\u001b[39m\"\u001b[39m\u001b[39mdut\u001b[39m\u001b[39m\"\u001b[39m] \u001b[39m=\u001b[39m dut\n\u001b[0;32m     35\u001b[0m data[d][version][o][t][profiler][\u001b[39m\"\u001b[39m\u001b[39mtest_case\u001b[39m\u001b[39m\"\u001b[39m] \u001b[39m=\u001b[39m test_case\n",
      "\u001b[1;31mKeyError\u001b[0m: <utils.objects.EnergyProfiler object at 0x000001EDFF8154E0>"
     ]
    }
   ],
   "source": [
    "data = {}\n",
    "\n",
    "for d in duts:\n",
    "    data[d] = {}\n",
    "    for o in os:\n",
    "        version = dut_version[d][o]\n",
    "        data[d][version] = {}\n",
    "        data[d][version][o] = {}\n",
    "        for t in test_cases:\n",
    "            data[d][version][o][t] = {}\n",
    "            for profiler in profilers:\n",
    "                data[d][version][o][t][profiler] = {}\n",
    "                data[d][version][o][t][profiler][\"ye\"] = \"yo\"\n",
    "                print(type(data[d][version][o][t][profiler]))\n",
    "                \n",
    "                \n",
    "                profiler = EnergyProfiler(profiler, repository)\n",
    "                config = Configuration(min_temp, max_temp, min_battery, max_battery, duration, between, version, repository, env)\n",
    "                dut = Dut(d, o, repository)\n",
    "                test_case = TestCase(t, repository)\n",
    "                \n",
    "                if config.id > 0:\n",
    "                    config_id = config.id\n",
    "                    dut_id = dut.id\n",
    "                    test_case_id = test_case.id\n",
    "                    \n",
    "                    experiment = Experiment(config_id, dut_id, test_case_id, language, repository, 200)\n",
    "                    \n",
    "                    if len(experiment.experiments) > 0:\n",
    "                        print(type(data[d][version][o][t]))\n",
    "                        print(\"yoot\")\n",
    "                        # data[d][version][o][t][profiler][\"config\"] = config\n",
    "                        data[d][version][o][t][profiler][\"profiler\"] = profiler\n",
    "                        data[d][version][o][t][profiler][\"dut\"] = dut\n",
    "                        data[d][version][o][t][profiler][\"test_case\"] = test_case\n",
    "                        data[d][version][o][t][profiler][\"experiment\"] = experiment\n",
    "\n",
    "data"
   ]
  },
  {
   "cell_type": "code",
   "execution_count": null,
   "metadata": {},
   "outputs": [
    {
     "data": {
      "text/plain": [
       "(1, 'IntelPowerGadget')"
      ]
     },
     "execution_count": 4,
     "metadata": {},
     "output_type": "execute_result"
    }
   ],
   "source": [
    "energy_profiler = EnergyProfiler(profiler_name, repository)\n",
    "\n",
    "energy_profiler.id, energy_profiler.energy_profiler_name\n"
   ]
  },
  {
   "cell_type": "code",
   "execution_count": null,
   "metadata": {},
   "outputs": [
    {
     "data": {
      "text/plain": [
       "(6, 'Surface4Pro', 'Win32NT')"
      ]
     },
     "execution_count": 5,
     "metadata": {},
     "output_type": "execute_result"
    }
   ],
   "source": [
    "dut = Dut(dut_name, dut_os, repository)\n",
    "\n",
    "dut.id, dut.dut_name, dut.dut_os"
   ]
  },
  {
   "cell_type": "code",
   "execution_count": null,
   "metadata": {},
   "outputs": [
    {
     "data": {
      "text/plain": [
       "(26, 1, 100, 0, 200, 8, 'PROD', 1, 0)"
      ]
     },
     "execution_count": 6,
     "metadata": {},
     "output_type": "execute_result"
    }
   ],
   "source": [
    "config = Configuration(min_temp, max_temp, min_battery, max_battery, duration, between, version, repository, env)\n",
    "\n",
    "config.id, config.min_battery, config.max_battery, config.min_temp, config.max_temp, config.version, config.env, config.duration, config.between"
   ]
  },
  {
   "cell_type": "code",
   "execution_count": null,
   "metadata": {},
   "outputs": [
    {
     "data": {
      "text/plain": [
       "(3, 'IdleCase')"
      ]
     },
     "execution_count": 7,
     "metadata": {},
     "output_type": "execute_result"
    }
   ],
   "source": [
    "test_case = TestCase(test_case_name, repository)\n",
    "test_case.id, test_case.test_case_name"
   ]
  },
  {
   "cell_type": "code",
   "execution_count": null,
   "metadata": {},
   "outputs": [
    {
     "data": {
      "text/plain": [
       "(95, 26, 6, 'CSharp', 3, 200)"
      ]
     },
     "execution_count": 8,
     "metadata": {},
     "output_type": "execute_result"
    }
   ],
   "source": [
    "experiment = Experiment(config.id, dut.id, test_case.id, language, repository, 200)\n",
    "len(experiment.experiments), experiment.config_id, experiment.dut_id, experiment.language, experiment.test_case_id, experiment.count\n"
   ]
  },
  {
   "cell_type": "code",
   "execution_count": null,
   "metadata": {},
   "outputs": [],
   "source": [
    "repository.close()"
   ]
  },
  {
   "cell_type": "code",
   "execution_count": null,
   "metadata": {},
   "outputs": [
    {
     "data": {
      "text/plain": [
       "(datetime.datetime(2022, 10, 31, 8, 24, 21, 814999),\n",
       " datetime.datetime(2022, 10, 31, 8, 23, 21, 711993),\n",
       " 2,\n",
       " 18,\n",
       " 60041)"
      ]
     },
     "execution_count": 10,
     "metadata": {},
     "output_type": "execute_result"
    }
   ],
   "source": [
    "temp_experiment = experiment.experiments[0]\n",
    "\n",
    "temp_experiment.end_time, temp_experiment.start_time, temp_experiment.runs, temp_experiment.iteration, temp_experiment.duration"
   ]
  },
  {
   "cell_type": "code",
   "execution_count": null,
   "metadata": {},
   "outputs": [
    {
     "data": {
      "text/plain": [
       "([Decimal('42'), Decimal('42')], [Decimal('38'), Decimal('49')])"
      ]
     },
     "execution_count": 11,
     "metadata": {},
     "output_type": "execute_result"
    }
   ],
   "source": [
    "[x.value for x in temp_experiment.start_temperature.data], [x.value for x in temp_experiment.stop_temperature.data]"
   ]
  },
  {
   "cell_type": "code",
   "execution_count": null,
   "metadata": {},
   "outputs": [
    {
     "data": {
      "text/plain": [
       "([Decimal('4')], [Decimal('3')])"
      ]
     },
     "execution_count": 12,
     "metadata": {},
     "output_type": "execute_result"
    }
   ],
   "source": [
    "[x.value for x in temp_experiment.start_battery.data], [x.value for x in temp_experiment.stop_battery.data]"
   ]
  },
  {
   "cell_type": "code",
   "execution_count": null,
   "metadata": {},
   "outputs": [],
   "source": [
    "durations = [x.duration / x.runs for x in experiment.experiments]\n",
    "dram_avg = [x.CumulativeDramEnergyInJoules for x in experiment.experiments]\n",
    "gt_power_avg = [x.CumulativeGtEnergyInJoules for x in experiment.experiments]\n",
    "ai_power_avg = [x.CumulativeIaEnergyInJoules for x in experiment.experiments]\n",
    "processor_power_avg = [x.CumulativeProcessorEnergyInJoules for x in experiment.experiments]"
   ]
  },
  {
   "cell_type": "code",
   "execution_count": null,
   "metadata": {},
   "outputs": [
    {
     "data": {
      "text/plain": [
       "[29497252,\n",
       " 29039184,\n",
       " 29114868,\n",
       " 29410400,\n",
       " 29326476,\n",
       " 29400818,\n",
       " 29311400,\n",
       " 29220764,\n",
       " 29227172,\n",
       " 29252748,\n",
       " 30076232,\n",
       " 29186646,\n",
       " 29179320,\n",
       " 29224060,\n",
       " 29928650,\n",
       " 29473756,\n",
       " 30609864,\n",
       " 32202454,\n",
       " 28795532,\n",
       " 28816344,\n",
       " 28759704,\n",
       " 28820984,\n",
       " 28776368,\n",
       " 28763612,\n",
       " 28782166,\n",
       " 28984740,\n",
       " 28803406,\n",
       " 28782716,\n",
       " 28746094,\n",
       " 28838806,\n",
       " 28816284,\n",
       " 28800354,\n",
       " 28772216,\n",
       " 28801452,\n",
       " 28793456,\n",
       " 28802552,\n",
       " 28818542,\n",
       " 28985656,\n",
       " 28785034,\n",
       " 28795898,\n",
       " 28850342,\n",
       " 28865600,\n",
       " 28839112,\n",
       " 28853332,\n",
       " 29859132,\n",
       " 28981324,\n",
       " 28904540,\n",
       " 29032654,\n",
       " 31082520,\n",
       " 31130980,\n",
       " 32570190,\n",
       " 29208008,\n",
       " 29243958,\n",
       " 29382080,\n",
       " 29437500,\n",
       " 29190980,\n",
       " 29204346,\n",
       " 29207336,\n",
       " 29231688,\n",
       " 29246460,\n",
       " 29256226,\n",
       " 29212524,\n",
       " 29182740,\n",
       " 29193664,\n",
       " 29493104,\n",
       " 29187928,\n",
       " 29399232,\n",
       " 29491456,\n",
       " 29543030,\n",
       " 29333008,\n",
       " 29240784,\n",
       " 29250610,\n",
       " 29317322,\n",
       " 29363220,\n",
       " 29221312,\n",
       " 29487000,\n",
       " 29311708,\n",
       " 29588806,\n",
       " 29637024,\n",
       " 36530456,\n",
       " 37093690,\n",
       " 29409728,\n",
       " 29247680,\n",
       " 29308104,\n",
       " 29346376,\n",
       " 29409728,\n",
       " 29370116,\n",
       " 30175536,\n",
       " 29405090,\n",
       " 29469848,\n",
       " 29553894,\n",
       " 30002564,\n",
       " 29979980,\n",
       " 30182068,\n",
       " 32310852]"
      ]
     },
     "execution_count": 14,
     "metadata": {},
     "output_type": "execute_result"
    }
   ],
   "source": [
    "dram_avg"
   ]
  },
  {
   "cell_type": "code",
   "execution_count": null,
   "metadata": {},
   "outputs": [],
   "source": [
    "def add_avg_and_std(values, dict, name, i):\n",
    "    dict[i][\"avg_\" + name] = sum(values) / len(values)  \n",
    "    dict[i][\"std_\" + name] = np.std(values) \n",
    "    dict[i][\"len_\" + name] = len(values) "
   ]
  },
  {
   "cell_type": "code",
   "execution_count": null,
   "metadata": {},
   "outputs": [],
   "source": [
    "def plot_for_key(values_to_plot, key, y_max):\n",
    "    plt.ylim(0,y_max)\n",
    "    x = [v for v in values_to_plot]\n",
    "    y = [values_to_plot[v][\"avg_\" + key] for v in values_to_plot]\n",
    "    e = [values_to_plot[v][\"std_\" + key] for v in values_to_plot]\n",
    "    \n",
    "    counts = [values_to_plot[v][\"len_\" + key] for v in values_to_plot]\n",
    "    \n",
    "    print(f\"The count: {counts}\")\n",
    "\n",
    "    plt.errorbar(x, y, e, linestyle='None', marker='.')"
   ]
  },
  {
   "cell_type": "code",
   "execution_count": null,
   "metadata": {},
   "outputs": [],
   "source": [
    "groups = defaultdict(list)\n",
    "values = defaultdict(dict)\n",
    "\n",
    "for obj in experiment.experiments:\n",
    "    groups[obj.iteration].append(obj)\n",
    "\n",
    "tuples_to_plot = []\n",
    "\n",
    "for g in groups:\n",
    "    if not g in values:\n",
    "        values[g] = {}\n",
    "    \n",
    "    durations = [x.duration / x.runs for x in groups[g]]\n",
    "    dram_avg = [x.AverageDramPowerInWatt for x in groups[g]]\n",
    "    gt_power_avg = [x.CumulativeGtEnergyInMwh for x in groups[g]]\n",
    "    ai_power_avg = [x.AverageIaPowerInWatt for x in groups[g]]\n",
    "    processor_power_avg = [x.AverageProcessorPowerWatt for x in groups[g]]\n",
    "    \n",
    "    # dram_avg = [x.CumulativeDramEnergyInJoules for x in groups[g]]\n",
    "    # gt_power_avg = [x.CumulativeGtEnergyInJoules for x in groups[g]]\n",
    "    # ai_power_avg = [x.CumulativeIaEnergyInJoules for x in groups[g]]\n",
    "    # processor_power_avg = [x.CumulativeProcessorEnergyInJoules for x in groups[g]]\n",
    "    \n",
    "    \n",
    "    add_avg_and_std(durations, values, \"duration\", g)\n",
    "    add_avg_and_std(dram_avg, values, \"dram\", g)\n",
    "    add_avg_and_std(gt_power_avg, values, \"gt\", g)\n",
    "    add_avg_and_std(ai_power_avg, values, \"ai\", g)\n",
    "    add_avg_and_std(processor_power_avg, values, \"processor\", g)\n",
    "\n"
   ]
  },
  {
   "cell_type": "code",
   "execution_count": null,
   "metadata": {},
   "outputs": [
    {
     "name": "stdout",
     "output_type": "stream",
     "text": [
      "The count: [3, 3, 3, 3, 4, 4, 4, 4, 4, 4, 4, 4, 4, 4, 4, 5, 5, 5, 2, 2, 2, 2, 2, 2, 2, 2, 2, 2, 2, 2]\n"
     ]
    },
    {
     "data": {
      "image/png": "[encoded data removed]",
      "text/plain": [
       "<Figure size 640x480 with 1 Axes>"
      ]
     },
     "metadata": {},
     "output_type": "display_data"
    }
   ],
   "source": [
    "plot_for_key(values, \"processor\", 4000000)\n"
   ]
  },
  {
   "cell_type": "code",
   "execution_count": null,
   "metadata": {},
   "outputs": [
    {
     "name": "stdout",
     "output_type": "stream",
     "text": [
      "The count: [3, 3, 3, 3, 4, 4, 4, 4, 4, 4, 4, 4, 4, 4, 4, 5, 5, 5, 2, 2, 2, 2, 2, 2, 2, 2, 2, 2, 2, 2]\n"
     ]
    },
    {
     "data": {
      "image/png": "[encoded data removed]",
      "text/plain": [
       "<Figure size 640x480 with 1 Axes>"
      ]
     },
     "metadata": {},
     "output_type": "display_data"
    }
   ],
   "source": [
    "plot_for_key(values, \"ai\", 2000000)\n"
   ]
  },
  {
   "cell_type": "code",
   "execution_count": null,
   "metadata": {},
   "outputs": [
    {
     "name": "stdout",
     "output_type": "stream",
     "text": [
      "The count: [3, 3, 3, 3, 4, 4, 4, 4, 4, 4, 4, 4, 4, 4, 4, 5, 5, 5, 2, 2, 2, 2, 2, 2, 2, 2, 2, 2, 2, 2]\n"
     ]
    },
    {
     "data": {
      "image/png": "[encoded data removed]",
      "text/plain": [
       "<Figure size 640x480 with 1 Axes>"
      ]
     },
     "metadata": {},
     "output_type": "display_data"
    }
   ],
   "source": [
    "plot_for_key(values, \"duration\", 31000)"
   ]
  },
  {
   "cell_type": "code",
   "execution_count": null,
   "metadata": {},
   "outputs": [
    {
     "name": "stdout",
     "output_type": "stream",
     "text": [
      "The count: [3, 3, 3, 3, 4, 4, 4, 4, 4, 4, 4, 4, 4, 4, 4, 5, 5, 5, 2, 2, 2, 2, 2, 2, 2, 2, 2, 2, 2, 2]\n"
     ]
    },
    {
     "data": {
      "image/png": "[encoded data removed]",
      "text/plain": [
       "<Figure size 640x480 with 1 Axes>"
      ]
     },
     "metadata": {},
     "output_type": "display_data"
    }
   ],
   "source": [
    "plot_for_key(values, \"dram\", 1000000)"
   ]
  },
  {
   "cell_type": "code",
   "execution_count": null,
   "metadata": {},
   "outputs": [
    {
     "data": {
      "text/plain": [
       "('09:23:21:839', '  46.000')"
      ]
     },
     "execution_count": 22,
     "metadata": {},
     "output_type": "execute_result"
    }
   ],
   "source": [
    "experiment.experiments[0].time_series.data_point[0].SystemTime, experiment.experiments[0].time_series.data_point[0].PackagePL4_0Watt"
   ]
  },
  {
   "cell_type": "code",
   "execution_count": null,
   "metadata": {},
   "outputs": [],
   "source": [
    "def get_time(data_point):\n",
    "    return datetime.strptime(data_point.SystemTime, '%H:%M:%S:%f')\n",
    "\n",
    "def get_y(data_point):\n",
    "    return float(data_point.DRAMPower_0Watt.strip())"
   ]
  },
  {
   "cell_type": "code",
   "execution_count": null,
   "metadata": {},
   "outputs": [
    {
     "data": {
      "text/plain": [
       "<matplotlib.collections.PathCollection at 0x20877f08c10>"
      ]
     },
     "execution_count": 24,
     "metadata": {},
     "output_type": "execute_result"
    },
    {
     "data": {
      "image/png": "[encoded data removed]",
      "text/plain": [
       "<Figure size 640x480 with 1 Axes>"
      ]
     },
     "metadata": {},
     "output_type": "display_data"
    }
   ],
   "source": [
    "index_to_plot = 2\n",
    "points_to_plot = -1\n",
    "experiment_to_plot = experiment.experiments[index_to_plot]\n",
    "\n",
    "tuples_to_plot = [(get_time(x), get_y(x)) for x in experiment_to_plot.time_series.data_point[:points_to_plot]]\n",
    "\n",
    "plt.scatter(*zip(*tuples_to_plot))"
   ]
  },
  {
   "cell_type": "code",
   "execution_count": null,
   "metadata": {},
   "outputs": [],
   "source": []
  },
  {
   "cell_type": "markdown",
   "metadata": {},
   "source": [
    "```json\n",
    "{\n",
    "    \"SystemTime\": \"13:26:40:313\",\n",
    "    \"RDTSC\": \" 271802431256\",\n",
    "    \"ElapsedTimesec\": \"   59.225\",\n",
    "    \"CPUUtilization\": \"   43.000\",\n",
    "    \"CPUFrequency_0MHz\": \" 1800\",\n",
    "    \"ProcessorPower_0Watt\": \"   3.571\",\n",
    "    \"CumulativeProcessorEnergy_0Joules\": \" 384.071\",\n",
    "    \"CumulativeProcessorEnergy_0mWh\": \" 106.686\",\n",
    "    \"IAPower_0Watt\": \"   2.073\",\n",
    "    \"CumulativeIAEnergy_0Joules\": \" 323.572\",\n",
    "    \"CumulativeIAEnergy_0mWh\": \"  89.881\",\n",
    "    \"PackageTemperature_0C\": \" 44\",\n",
    "    \"PackageHot_0\": \"  0\",\n",
    "    \"DRAMPower_0Watt\": \"   0.555\",\n",
    "    \"CumulativeDRAMEnergy_0Joules\": \"  31.903\",\n",
    "    \"CumulativeDRAMEnergy_0mWh\": \"   8.862\",\n",
    "    \"GTPower_0Watt\": \"   0.003\",\n",
    "    \"CumulativeGTEnergy_0Joules\": \"   0.568\",\n",
    "    \"CumulativeGTEnergy_0mWh\": \"   0.158\",\n",
    "    \"PackagePL1_0Watt\": \"  25.000\",\n",
    "    \"PackagePL2_0Watt\": \"  25.000\",\n",
    "    \"PackagePL4_0Watt\": \"  46.000\",\n",
    "    \"PlatformPsysPL1_0Watt\": \"  45.000\",\n",
    "    \"PlatformPsysPL2_0Watt\": \"  45.000\",\n",
    "    \"GTFrequencyMHz\": 0,\n",
    "    \"GTUtilization\": \"   0.000\"\n",
    "  },\n",
    "```"
   ]
  },
  {
   "cell_type": "code",
   "execution_count": null,
   "metadata": {},
   "outputs": [],
   "source": [
    "class Bucket(object):\n",
    "    def __init__(self, min_value, max_value):\n",
    "        self.min = min_value\n",
    "        self.min = min_value\n",
    "        self.max = "
   ]
  },
  {
   "cell_type": "code",
   "execution_count": null,
   "metadata": {},
   "outputs": [
    {
     "name": "stdout",
     "output_type": "stream",
     "text": [
      "min: 0, max: 5, between: 2.5\n",
      "min: 5, max: 10, between: 7.5\n",
      "min: 10, max: 15, between: 12.5\n",
      "min: 15, max: 20, between: 17.5\n",
      "min: 20, max: 25, between: 22.5\n",
      "min: 25, max: 30, between: 27.5\n",
      "min: 30, max: 35, between: 32.5\n",
      "min: 35, max: 40, between: 37.5\n",
      "min: 40, max: 45, between: 42.5\n",
      "min: 45, max: 50, between: 47.5\n",
      "min: 50, max: 55, between: 52.5\n",
      "min: 55, max: 60, between: 57.5\n",
      "min: 60, max: 65, between: 62.5\n",
      "min: 65, max: 70, between: 67.5\n",
      "min: 70, max: 75, between: 72.5\n",
      "min: 75, max: 80, between: 77.5\n",
      "min: 80, max: 85, between: 82.5\n",
      "min: 85, max: 90, between: 87.5\n",
      "min: 90, max: 95, between: 92.5\n",
      "min: 95, max: 100, between: 97.5\n"
     ]
    }
   ],
   "source": [
    "# [x.value for x in temp_experiment.battery.data]\n",
    "min_bucket = 0\n",
    "max_bucket = 100\n",
    "bucket_size = 5\n",
    "\n",
    "last_value = 0\n",
    "\n",
    "for i in range(min_bucket + bucket_size, max_bucket + 1, bucket_size):\n",
    "    print(f\"min: {last_value}, max: {i}, between: {((i - last_value) / 2) + last_value}\")\n",
    "    last_value = i\n",
    "\n"
   ]
  }
 ],
 "metadata": {
  "kernelspec": {
   "display_name": "Python 3.10.7 ('env': venv)",
   "language": "python",
   "name": "python3"
  },
  "language_info": {
   "codemirror_mode": {
    "name": "ipython",
    "version": 3
   },
   "file_extension": ".py",
   "mimetype": "text/x-python",
   "name": "python",
   "nbconvert_exporter": "python",
   "pygments_lexer": "ipython3",
   "version": "3.10.7"
  },
  "orig_nbformat": 4,
  "vscode": {
   "interpreter": {
    "hash": "60380eae6fee6fe3e26702bf53f19a085732533ec180dcbfbb77d4155bad62bb"
   }
  }
 },
 "nbformat": 4,
 "nbformat_minor": 2
}
