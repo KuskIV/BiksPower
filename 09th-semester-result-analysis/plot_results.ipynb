{
 "cells": [
  {
   "cell_type": "code",
   "execution_count": 78,
   "metadata": {},
   "outputs": [],
   "source": [
    "import numpy as np\n",
    "from utils.database_repository import DataRepository\n",
    "from utils.objects import *\n",
    "import matplotlib.pyplot as plt\n",
    "from collections import defaultdict\n",
    "import numpy as np\n",
    "import time\n",
    "from datetime import datetime"
   ]
  },
  {
   "cell_type": "code",
   "execution_count": 79,
   "metadata": {},
   "outputs": [
    {
     "name": "stdout",
     "output_type": "stream",
     "text": [
      "Connected to MySQL Server version  5.7.39-42-log\n"
     ]
    }
   ],
   "source": [
    "repository = DataRepository()"
   ]
  },
  {
   "cell_type": "code",
   "execution_count": 80,
   "metadata": {},
   "outputs": [],
   "source": [
    "dut_os = \"Win32NT\"\n",
    "profiler_name = \"IntelPowerGadget\"\n",
    "\n",
    "dut_name = \"PowerKomplett\" \n",
    "version = 5\n",
    "\n",
    "dut_name = \"Surface4Pro\"\n",
    "version = 8\n",
    "\n",
    "# dut_name = \"SurfaceBook\"\n",
    "# version = 4\n",
    "\n",
    "\n",
    "test_case_name = \"IdleCase\"\n",
    "# test_case_name = \"DiningPhilosophers\"\n",
    "\n",
    "min_temp = 0\n",
    "max_temp = 200\n",
    "\n",
    "min_battery = 1\n",
    "max_battery = 100\n",
    "\n",
    "between = 0\n",
    "duration = 1\n",
    "\n",
    "\n",
    "language = \"CSharp\"\n",
    "env = \"PROD\"\n",
    "\n",
    "limit = 200"
   ]
  },
  {
   "cell_type": "code",
   "execution_count": 81,
   "metadata": {},
   "outputs": [
    {
     "data": {
      "text/plain": [
       "(1, 'IntelPowerGadget')"
      ]
     },
     "execution_count": 81,
     "metadata": {},
     "output_type": "execute_result"
    }
   ],
   "source": [
    "energy_profiler = EnergyProfiler(profiler_name, repository)\n",
    "\n",
    "energy_profiler.id, energy_profiler.energy_profiler_name\n"
   ]
  },
  {
   "cell_type": "code",
   "execution_count": 82,
   "metadata": {},
   "outputs": [
    {
     "data": {
      "text/plain": [
       "(6, 'Surface4Pro', 'Win32NT')"
      ]
     },
     "execution_count": 82,
     "metadata": {},
     "output_type": "execute_result"
    }
   ],
   "source": [
    "dut = Dut(dut_name, dut_os, repository)\n",
    "\n",
    "dut.id, dut.dut_name, dut.dut_os"
   ]
  },
  {
   "cell_type": "code",
   "execution_count": 83,
   "metadata": {},
   "outputs": [
    {
     "data": {
      "text/plain": [
       "(26, 1, 100, 0, 200, 8, 'PROD', 1, 0)"
      ]
     },
     "execution_count": 83,
     "metadata": {},
     "output_type": "execute_result"
    }
   ],
   "source": [
    "config = Configuration(min_temp, max_temp, min_battery, max_battery, duration, between, version, repository, env)\n",
    "\n",
    "config.id, config.min_battery, config.max_battery, config.min_temp, config.max_temp, config.version, config.env, config.duration, config.between"
   ]
  },
  {
   "cell_type": "code",
   "execution_count": 84,
   "metadata": {},
   "outputs": [
    {
     "data": {
      "text/plain": [
       "(3, 'IdleCase')"
      ]
     },
     "execution_count": 84,
     "metadata": {},
     "output_type": "execute_result"
    }
   ],
   "source": [
    "test_case = TestCase(test_case_name, repository)\n",
    "test_case.id, test_case.test_case_name"
   ]
  },
  {
   "cell_type": "code",
   "execution_count": 85,
   "metadata": {},
   "outputs": [
    {
     "data": {
      "text/plain": [
       "(14, 26, 6, 'CSharp', 3, 200)"
      ]
     },
     "execution_count": 85,
     "metadata": {},
     "output_type": "execute_result"
    }
   ],
   "source": [
    "experiment = Experiment(config.id, dut.id, test_case.id, language, repository, 200)\n",
    "len(experiment.experiments), experiment.config_id, experiment.dut_id, experiment.language, experiment.test_case_id, experiment.count\n"
   ]
  },
  {
   "cell_type": "code",
   "execution_count": 86,
   "metadata": {},
   "outputs": [],
   "source": [
    "repository.close()"
   ]
  },
  {
   "cell_type": "code",
   "execution_count": 87,
   "metadata": {},
   "outputs": [
    {
     "data": {
      "text/plain": [
       "(datetime.datetime(2022, 10, 28, 11, 43, 36, 640765),\n",
       " datetime.datetime(2022, 10, 28, 11, 42, 36, 495876),\n",
       " 2,\n",
       " 14,\n",
       " 60067)"
      ]
     },
     "execution_count": 87,
     "metadata": {},
     "output_type": "execute_result"
    }
   ],
   "source": [
    "temp_experiment = experiment.experiments[0]\n",
    "\n",
    "temp_experiment.end_time, temp_experiment.start_time, temp_experiment.runs, temp_experiment.iteration, temp_experiment.duration"
   ]
  },
  {
   "cell_type": "code",
   "execution_count": 88,
   "metadata": {},
   "outputs": [
    {
     "data": {
      "text/plain": [
       "([Decimal('39'), Decimal('40')], [Decimal('37'), Decimal('38')])"
      ]
     },
     "execution_count": 88,
     "metadata": {},
     "output_type": "execute_result"
    }
   ],
   "source": [
    "[x.value for x in temp_experiment.start_temperature.data], [x.value for x in temp_experiment.stop_temperature.data]"
   ]
  },
  {
   "cell_type": "code",
   "execution_count": 89,
   "metadata": {},
   "outputs": [
    {
     "data": {
      "text/plain": [
       "([Decimal('71')], [Decimal('70')])"
      ]
     },
     "execution_count": 89,
     "metadata": {},
     "output_type": "execute_result"
    }
   ],
   "source": [
    "[x.value for x in temp_experiment.start_battery.data], [x.value for x in temp_experiment.stop_battery.data]"
   ]
  },
  {
   "cell_type": "code",
   "execution_count": 90,
   "metadata": {},
   "outputs": [],
   "source": [
    "durations = [x.duration / x.runs for x in experiment.experiments]\n",
    "dram_avg = [x.CumulativeDramEnergyInJoules for x in experiment.experiments]\n",
    "gt_power_avg = [x.CumulativeGtEnergyInJoules for x in experiment.experiments]\n",
    "ai_power_avg = [x.CumulativeIaEnergyInJoules for x in experiment.experiments]\n",
    "processor_power_avg = [x.CumulativeProcessorEnergyInJoules for x in experiment.experiments]"
   ]
  },
  {
   "cell_type": "code",
   "execution_count": 91,
   "metadata": {},
   "outputs": [
    {
     "data": {
      "text/plain": [
       "[29409728,\n",
       " 29247680,\n",
       " 29308104,\n",
       " 29346376,\n",
       " 29409728,\n",
       " 29370116,\n",
       " 30175536,\n",
       " 29405090,\n",
       " 29469848,\n",
       " 29553894,\n",
       " 30002564,\n",
       " 29979980,\n",
       " 30182068,\n",
       " 32310852]"
      ]
     },
     "execution_count": 91,
     "metadata": {},
     "output_type": "execute_result"
    }
   ],
   "source": [
    "dram_avg"
   ]
  },
  {
   "cell_type": "code",
   "execution_count": 92,
   "metadata": {},
   "outputs": [],
   "source": [
    "def add_avg_and_std(values, dict, name, i):\n",
    "    dict[i][\"avg_\" + name] = sum(values) / len(values)  \n",
    "    dict[i][\"std_\" + name] = np.std(values) \n",
    "    dict[i][\"len_\" + name] = len(values) "
   ]
  },
  {
   "cell_type": "code",
   "execution_count": 93,
   "metadata": {},
   "outputs": [],
   "source": [
    "def plot_for_key(values_to_plot, key, y_max):\n",
    "    plt.ylim(0,y_max)\n",
    "    x = [v for v in values_to_plot]\n",
    "    y = [values_to_plot[v][\"avg_\" + key] for v in values_to_plot]\n",
    "    e = [values_to_plot[v][\"std_\" + key] for v in values_to_plot]\n",
    "    \n",
    "    counts = [values_to_plot[v][\"len_\" + key] for v in values_to_plot]\n",
    "    \n",
    "    print(f\"The count: {counts}\")\n",
    "\n",
    "    plt.errorbar(x, y, e, linestyle='None', marker='.')"
   ]
  },
  {
   "cell_type": "code",
   "execution_count": 94,
   "metadata": {},
   "outputs": [],
   "source": [
    "groups = defaultdict(list)\n",
    "values = defaultdict(dict)\n",
    "\n",
    "for obj in experiment.experiments:\n",
    "    groups[obj.iteration].append(obj)\n",
    "\n",
    "tuples_to_plot = []\n",
    "\n",
    "for g in groups:\n",
    "    if not g in values:\n",
    "        values[g] = {}\n",
    "    \n",
    "    durations = [x.duration / x.runs for x in groups[g]]\n",
    "    dram_avg = [x.AverageDramPowerInWatt for x in groups[g]]\n",
    "    gt_power_avg = [x.CumulativeGtEnergyInMwh for x in groups[g]]\n",
    "    ai_power_avg = [x.AverageIaPowerInWatt for x in groups[g]]\n",
    "    processor_power_avg = [x.AverageProcessorPowerWatt for x in groups[g]]\n",
    "    \n",
    "    # dram_avg = [x.CumulativeDramEnergyInJoules for x in groups[g]]\n",
    "    # gt_power_avg = [x.CumulativeGtEnergyInJoules for x in groups[g]]\n",
    "    # ai_power_avg = [x.CumulativeIaEnergyInJoules for x in groups[g]]\n",
    "    # processor_power_avg = [x.CumulativeProcessorEnergyInJoules for x in groups[g]]\n",
    "    \n",
    "    \n",
    "    add_avg_and_std(durations, values, \"duration\", g)\n",
    "    add_avg_and_std(dram_avg, values, \"dram\", g)\n",
    "    add_avg_and_std(gt_power_avg, values, \"gt\", g)\n",
    "    add_avg_and_std(ai_power_avg, values, \"ai\", g)\n",
    "    add_avg_and_std(processor_power_avg, values, \"processor\", g)\n",
    "\n"
   ]
  },
  {
   "cell_type": "code",
   "execution_count": 95,
   "metadata": {},
   "outputs": [
    {
     "name": "stdout",
     "output_type": "stream",
     "text": [
      "The count: [1, 1, 1, 1, 1, 1, 1, 1, 1, 1, 1, 1, 1, 1]\n"
     ]
    },
    {
     "data": {
      "image/png": "[encoded data removed]",
      "text/plain": [
       "<Figure size 640x480 with 1 Axes>"
      ]
     },
     "metadata": {},
     "output_type": "display_data"
    }
   ],
   "source": [
    "plot_for_key(values, \"processor\", 4000000)\n"
   ]
  },
  {
   "cell_type": "code",
   "execution_count": 96,
   "metadata": {},
   "outputs": [
    {
     "name": "stdout",
     "output_type": "stream",
     "text": [
      "The count: [1, 1, 1, 1, 1, 1, 1, 1, 1, 1, 1, 1, 1, 1]\n"
     ]
    },
    {
     "data": {
      "image/png": "[encoded data removed]",
      "text/plain": [
       "<Figure size 640x480 with 1 Axes>"
      ]
     },
     "metadata": {},
     "output_type": "display_data"
    }
   ],
   "source": [
    "plot_for_key(values, \"ai\", 2000000)\n"
   ]
  },
  {
   "cell_type": "code",
   "execution_count": 97,
   "metadata": {},
   "outputs": [
    {
     "name": "stdout",
     "output_type": "stream",
     "text": [
      "The count: [1, 1, 1, 1, 1, 1, 1, 1, 1, 1, 1, 1, 1, 1]\n"
     ]
    },
    {
     "data": {
      "image/png": "[encoded data removed]",
      "text/plain": [
       "<Figure size 640x480 with 1 Axes>"
      ]
     },
     "metadata": {},
     "output_type": "display_data"
    }
   ],
   "source": [
    "plot_for_key(values, \"duration\", 31000)"
   ]
  },
  {
   "cell_type": "code",
   "execution_count": 98,
   "metadata": {},
   "outputs": [
    {
     "name": "stdout",
     "output_type": "stream",
     "text": [
      "The count: [1, 1, 1, 1, 1, 1, 1, 1, 1, 1, 1, 1, 1, 1]\n"
     ]
    },
    {
     "data": {
      "image/png": "[encoded data removed]",
      "text/plain": [
       "<Figure size 640x480 with 1 Axes>"
      ]
     },
     "metadata": {},
     "output_type": "display_data"
    }
   ],
   "source": [
    "plot_for_key(values, \"dram\", 1000000)"
   ]
  },
  {
   "cell_type": "code",
   "execution_count": 114,
   "metadata": {},
   "outputs": [
    {
     "data": {
      "text/plain": [
       "('13:42:36:648', '  46.000')"
      ]
     },
     "execution_count": 114,
     "metadata": {},
     "output_type": "execute_result"
    }
   ],
   "source": [
    "experiment.experiments[0].time_series.data_point[0].SystemTime, experiment.experiments[0].time_series.data_point[0].PackagePL4_0Watt"
   ]
  },
  {
   "cell_type": "code",
   "execution_count": 119,
   "metadata": {},
   "outputs": [],
   "source": [
    "def get_time(data_point):\n",
    "    return datetime.strptime(data_point.SystemTime, '%H:%M:%S:%f')\n",
    "\n",
    "def get_y(data_point):\n",
    "    return float(data_point.DRAMPower_0Watt.strip())"
   ]
  },
  {
   "cell_type": "code",
   "execution_count": 120,
   "metadata": {},
   "outputs": [
    {
     "data": {
      "text/plain": [
       "<matplotlib.collections.PathCollection at 0x23c04bc36d0>"
      ]
     },
     "execution_count": 120,
     "metadata": {},
     "output_type": "execute_result"
    },
    {
     "data": {
      "image/png": "[encoded data removed]",
      "text/plain": [
       "<Figure size 640x480 with 1 Axes>"
      ]
     },
     "metadata": {},
     "output_type": "display_data"
    }
   ],
   "source": [
    "index_to_plot = 2\n",
    "points_to_plot = -1\n",
    "experiment_to_plot = experiment.experiments[index_to_plot]\n",
    "\n",
    "tuples_to_plot = [(get_time(x), get_y(x)) for x in experiment_to_plot.time_series.data_point[:points_to_plot]]\n",
    "\n",
    "plt.scatter(*zip(*tuples_to_plot))"
   ]
  },
  {
   "cell_type": "code",
   "execution_count": null,
   "metadata": {},
   "outputs": [],
   "source": []
  },
  {
   "cell_type": "markdown",
   "metadata": {},
   "source": [
    "```json\n",
    "{\n",
    "    \"SystemTime\": \"13:26:40:313\",\n",
    "    \"RDTSC\": \" 271802431256\",\n",
    "    \"ElapsedTimesec\": \"   59.225\",\n",
    "    \"CPUUtilization\": \"   43.000\",\n",
    "    \"CPUFrequency_0MHz\": \" 1800\",\n",
    "    \"ProcessorPower_0Watt\": \"   3.571\",\n",
    "    \"CumulativeProcessorEnergy_0Joules\": \" 384.071\",\n",
    "    \"CumulativeProcessorEnergy_0mWh\": \" 106.686\",\n",
    "    \"IAPower_0Watt\": \"   2.073\",\n",
    "    \"CumulativeIAEnergy_0Joules\": \" 323.572\",\n",
    "    \"CumulativeIAEnergy_0mWh\": \"  89.881\",\n",
    "    \"PackageTemperature_0C\": \" 44\",\n",
    "    \"PackageHot_0\": \"  0\",\n",
    "    \"DRAMPower_0Watt\": \"   0.555\",\n",
    "    \"CumulativeDRAMEnergy_0Joules\": \"  31.903\",\n",
    "    \"CumulativeDRAMEnergy_0mWh\": \"   8.862\",\n",
    "    \"GTPower_0Watt\": \"   0.003\",\n",
    "    \"CumulativeGTEnergy_0Joules\": \"   0.568\",\n",
    "    \"CumulativeGTEnergy_0mWh\": \"   0.158\",\n",
    "    \"PackagePL1_0Watt\": \"  25.000\",\n",
    "    \"PackagePL2_0Watt\": \"  25.000\",\n",
    "    \"PackagePL4_0Watt\": \"  46.000\",\n",
    "    \"PlatformPsysPL1_0Watt\": \"  45.000\",\n",
    "    \"PlatformPsysPL2_0Watt\": \"  45.000\",\n",
    "    \"GTFrequencyMHz\": 0,\n",
    "    \"GTUtilization\": \"   0.000\"\n",
    "  },\n",
    "```"
   ]
  },
  {
   "cell_type": "code",
   "execution_count": 102,
   "metadata": {},
   "outputs": [
    {
     "name": "stdout",
     "output_type": "stream",
     "text": [
      "min: 0, max: 5, between: 2.5\n",
      "min: 5, max: 10, between: 7.5\n",
      "min: 10, max: 15, between: 12.5\n",
      "min: 15, max: 20, between: 17.5\n",
      "min: 20, max: 25, between: 22.5\n",
      "min: 25, max: 30, between: 27.5\n",
      "min: 30, max: 35, between: 32.5\n",
      "min: 35, max: 40, between: 37.5\n",
      "min: 40, max: 45, between: 42.5\n",
      "min: 45, max: 50, between: 47.5\n",
      "min: 50, max: 55, between: 52.5\n",
      "min: 55, max: 60, between: 57.5\n",
      "min: 60, max: 65, between: 62.5\n",
      "min: 65, max: 70, between: 67.5\n",
      "min: 70, max: 75, between: 72.5\n",
      "min: 75, max: 80, between: 77.5\n",
      "min: 80, max: 85, between: 82.5\n",
      "min: 85, max: 90, between: 87.5\n",
      "min: 90, max: 95, between: 92.5\n",
      "min: 95, max: 100, between: 97.5\n"
     ]
    }
   ],
   "source": [
    "# [x.value for x in temp_experiment.battery.data]\n",
    "min_bucket = 0\n",
    "max_bucket = 100\n",
    "bucket_size = 5\n",
    "\n",
    "last_value = 0\n",
    "\n",
    "for i in range(min_bucket + bucket_size, max_bucket + 1, bucket_size):\n",
    "    print(f\"min: {last_value}, max: {i}, between: {((i - last_value) / 2) + last_value}\")\n",
    "    last_value = i\n",
    "\n"
   ]
  }
 ],
 "metadata": {
  "kernelspec": {
   "display_name": "Python 3.10.7 ('env': venv)",
   "language": "python",
   "name": "python3"
  },
  "language_info": {
   "codemirror_mode": {
    "name": "ipython",
    "version": 3
   },
   "file_extension": ".py",
   "mimetype": "text/x-python",
   "name": "python",
   "nbconvert_exporter": "python",
   "pygments_lexer": "ipython3",
   "version": "3.10.7"
  },
  "orig_nbformat": 4,
  "vscode": {
   "interpreter": {
    "hash": "60380eae6fee6fe3e26702bf53f19a085732533ec180dcbfbb77d4155bad62bb"
   }
  }
 },
 "nbformat": 4,
 "nbformat_minor": 2
}
