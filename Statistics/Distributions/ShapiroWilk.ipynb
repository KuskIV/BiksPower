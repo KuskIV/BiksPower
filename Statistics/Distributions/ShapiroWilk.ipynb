{
 "cells": [
  {
   "cell_type": "markdown",
   "metadata": {},
   "source": [
    "## Shapiro-Wilk test\n",
    "Shapiro-Wilk test is a so called normalcy test essentially it test if some distribution is a normal distribution or not. \n",
    "The formula for the test can be seen here:\n",
    "$$W=\\frac{( \\sum{a_i x_i} )^2}{\\sum{(x_i - \\bar{x})^2}}$$\n",
    "\n",
    "The null hypnosis's $H_0$ for the test is:\n",
    "*The sample comes from a normally-distributes population* \n",
    "\n",
    "If $w$ is less than $1$ the $H_0$ can be rejected, though in reality some tolerance should be worked with as most statistical test work fine with close to normally distributed data.\n",
    "\n",
    "There is also the concept of a p-value which when below or exactly $0.05$ the null hypnosis's can be rejected."
   ]
  },
  {
   "cell_type": "code",
   "execution_count": 5,
   "metadata": {},
   "outputs": [
    {
     "name": "stdout",
     "output_type": "stream",
     "text": [
      "0.9927818775177002\n",
      "0.8745550513267517\n"
     ]
    }
   ],
   "source": [
    "#Example of the test used on normally distributed data\n",
    "from scipy import stats\n",
    "import numpy as np\n",
    "rng = np.random.default_rng()\n",
    "x = stats.norm.rvs(loc=5, scale=3, size=100, random_state=rng)\n",
    "shapiro_test = stats.shapiro(x)\n",
    "shapiro_test\n",
    "print(shapiro_test.statistic)\n",
    "print(shapiro_test.pvalue)\n"
   ]
  },
  {
   "cell_type": "code",
   "execution_count": 7,
   "metadata": {},
   "outputs": [
    {
     "name": "stdout",
     "output_type": "stream",
     "text": [
      "0.8707722425460815\n",
      "7.532419488143205e-08\n"
     ]
    }
   ],
   "source": [
    "rng = np.random.default_rng()\n",
    "x = stats.expon.rvs(loc=5, scale=3, size=100, random_state=rng)\n",
    "shapiro_test = stats.shapiro(x)\n",
    "shapiro_test\n",
    "print(shapiro_test.statistic)\n",
    "print(shapiro_test.pvalue)"
   ]
  },
  {
   "cell_type": "markdown",
   "metadata": {},
   "source": [
    "From these two example we can see an example where we would not reject and reject the null hypnosis's"
   ]
  }
 ],
 "metadata": {
  "kernelspec": {
   "display_name": "Python 3.10.6 64-bit",
   "language": "python",
   "name": "python3"
  },
  "language_info": {
   "codemirror_mode": {
    "name": "ipython",
    "version": 3
   },
   "file_extension": ".py",
   "mimetype": "text/x-python",
   "name": "python",
   "nbconvert_exporter": "python",
   "pygments_lexer": "ipython3",
   "version": "3.10.6"
  },
  "orig_nbformat": 4,
  "vscode": {
   "interpreter": {
    "hash": "a7bddbc51a7f6e604dc227459bf5d8b3e9945e8f507bf96c3c10553d8e220680"
   }
  }
 },
 "nbformat": 4,
 "nbformat_minor": 2
}
