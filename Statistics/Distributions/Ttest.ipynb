{
 "cells": [
  {
   "cell_type": "markdown",
   "metadata": {},
   "source": [
    "https://www.youtube.com/watch?v=pTmLQvMM-1M&ab_channel=BozemanScience\n",
    "## T-Test/Student T-Test\n",
    "The t-test is essentially a way to test if two distribution are statistically significantly different from each other. \n",
    "There are a couple of condition to using t-test these are:\n",
    "- Normally distributed data\n",
    "- Similar Variance \n",
    "- Same number of datapoint(or close to same)\n",
    "\n",
    "The null hypothesis $H_0$ of the t-test is:\n",
    "*There is no statistically significant difference between the samples*\n",
    "\n",
    "To do a t-test the $t_{value}$ must first be calculated\n",
    "$$t_{Value} = \\frac{|\\bar{x_1}- \\bar{x_2}|}{\\sqrt{\\frac{S_1^2}{n_1} + \\frac{S_2^2}{n_2}}}$$\n",
    "\n",
    "Now that the $t_{value}$ have been calculated it can be used to determine if $H_0$ can be rejected or not.\n",
    "\n",
    "The determine if i can be rejected or not we have to chose a critical value or threshold.\n",
    "If the $t_{value}$ is higher than the critical value then we reject $H_0$ and not if lower or equal.\n",
    "\n",
    "The critical value is usually found from looking at a t-table. When choosing a value for P which is probability. The number of samples from dist1 + dist2 - 2 is then used to chose the critical value.\n",
    "\n"
   ]
  },
  {
   "cell_type": "code",
   "execution_count": 18,
   "metadata": {},
   "outputs": [
    {
     "name": "stdout",
     "output_type": "stream",
     "text": [
      "Ttest_indResult(statistic=-1.3636007577302423, pvalue=0.1730007487796373)\n",
      "Ttest_indResult(statistic=-1.3636007577302425, pvalue=0.1730014621945941)\n"
     ]
    }
   ],
   "source": [
    "from scipy import stats\n",
    "import numpy as np\n",
    "rng = np.random.default_rng()\n",
    "rvs1 = stats.norm.rvs(loc=5, scale=10, size=500, random_state=rng)\n",
    "rvs2 = stats.norm.rvs(loc=5, scale=10, size=500, random_state=rng)\n",
    "print(stats.ttest_ind(rvs1, rvs2))\n",
    "print(stats.ttest_ind(rvs1, rvs2, equal_var=False))"
   ]
  },
  {
   "cell_type": "code",
   "execution_count": 20,
   "metadata": {},
   "outputs": [
    {
     "name": "stdout",
     "output_type": "stream",
     "text": [
      "Ttest_indResult(statistic=-3.4530384186772753, pvalue=0.0005775807793863791)\n",
      "Ttest_indResult(statistic=-3.453038418677276, pvalue=0.0005849103306975414)\n"
     ]
    }
   ],
   "source": [
    "rvs3 = stats.norm.rvs(loc=5, scale=20, size=500, random_state=rng)\n",
    "print(stats.ttest_ind(rvs1, rvs3))\n",
    "print(stats.ttest_ind(rvs1, rvs3, equal_var=False))"
   ]
  }
 ],
 "metadata": {
  "kernelspec": {
   "display_name": "Python 3.10.6 64-bit",
   "language": "python",
   "name": "python3"
  },
  "language_info": {
   "codemirror_mode": {
    "name": "ipython",
    "version": 3
   },
   "file_extension": ".py",
   "mimetype": "text/x-python",
   "name": "python",
   "nbconvert_exporter": "python",
   "pygments_lexer": "ipython3",
   "version": "3.10.6"
  },
  "orig_nbformat": 4,
  "vscode": {
   "interpreter": {
    "hash": "a7bddbc51a7f6e604dc227459bf5d8b3e9945e8f507bf96c3c10553d8e220680"
   }
  }
 },
 "nbformat": 4,
 "nbformat_minor": 2
}
