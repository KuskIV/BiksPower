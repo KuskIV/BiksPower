{
 "cells": [
  {
   "cell_type": "markdown",
   "metadata": {},
   "source": [
    "https://www.youtube.com/watch?v=pTmLQvMM-1M&ab_channel=BozemanScience\n",
    "## T-Test/Student T-Test\n",
    "The t-test is essentially a way to test if two distribution are statistically significantly different from each other. \n",
    "There are a couple of condition to using t-test these are:\n",
    "- Normally distributed data\n",
    "- Similar Variance \n",
    "- Same number of datapoint(or close to same)\n",
    "\n",
    "The null hypothesis $H_0$ of the t-test is:\n",
    "*There is no statistically significant difference between the samples*\n",
    "\n",
    "To do a t-test the $t_{value}$ must first be calculated\n",
    "$$t_{Value} = \\frac{|\\bar{x_1}- \\bar{x_2}|}{\\sqrt{\\frac{S_1^2}{n_1} + \\frac{S_2^2}{n_2}}}$$\n",
    "\n",
    "Now that the $t_{value}$ have been calculated it can be used to determine if $H_0$ can be rejected or not.\n",
    "\n",
    "The determine if i can be rejected or not we have to chose a critical value or threshold.\n",
    "If the $t_{value}$ is higher than the critical value then we reject $H_0$ and not if lower or equal.\n",
    "\n",
    "The critical value is usually found from looking at a t-table. When choosing a value for P which is probability. The number of samples from dist1 + dist2 - 2 is then used to chose the critical value.\n",
    "\n"
   ]
  },
  {
   "cell_type": "markdown",
   "metadata": {},
   "source": []
  }
 ],
 "metadata": {
  "kernelspec": {
   "display_name": "Python 3.10.6 64-bit",
   "language": "python",
   "name": "python3"
  },
  "language_info": {
   "name": "python",
   "version": "3.10.6"
  },
  "orig_nbformat": 4,
  "vscode": {
   "interpreter": {
    "hash": "a7bddbc51a7f6e604dc227459bf5d8b3e9945e8f507bf96c3c10553d8e220680"
   }
  }
 },
 "nbformat": 4,
 "nbformat_minor": 2
}
