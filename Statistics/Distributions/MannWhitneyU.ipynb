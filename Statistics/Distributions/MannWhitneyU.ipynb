{
 "cells": [
  {
   "cell_type": "markdown",
   "metadata": {},
   "source": [
    "https://www.youtube.com/watch?v=Twk6lBhBl88&ab_channel=DATAtab\n",
    "## Mann Whitney U test\n",
    "The mann Whitney u test is essentially a way to check if there is a statistical significant difference between two independent samples. I does the same as the t-test but for samples that are not normally distribution. \n",
    "\n",
    "There is a important difference between the two:\n",
    "The t-test calculated if there is a difference in the **mean** of two samples.\n",
    "The mann whitney u test test if these is a **rank sum** difference.\n",
    "\n",
    "The concept of rank in the mann whitney us test us essentially from smallest to largest with the larger values having a larger rank. The specific rank is assigned based on its rank in both samples. The rank sum is then after these rank have been assigned to each measurements the sum them together and each group has a **rank sum**.\n",
    "\n",
    "The test needs ordinal variables in our case this could be specific program versions of compiler version used, or more likely the operating system the test are run on.\n",
    "\n",
    "The requirements for the mann whitney u test we have two independent samples with ordinarily scaled characteristics(can you sort them), there is no need for it to fulfill a distribution curve.\n",
    "\n",
    "The null hypothesis: \n",
    "*in the population, the sum of the rankings in the two groups does not differ.* \n",
    "There is also an alternative hypothesis:\n",
    "*In the population the sum of ranks differs between the two groups*\n",
    "\n",
    "The actual calculations for each group consist of the number of cases in the group $n_1$ and rank sum $T_1$. These are then used in the formula:\n",
    "$$U_1 = n_1*n_2+\\frac{n_1*(n_1+1)}{2}-T_1$$ \n",
    "$$U_2 = n_1*n_2+\\frac{n_2*(n_2+1)}{2}-T_2$$\n",
    "\n",
    "U used in the test is the the smallest of the two  $U$ $U = min(U_1,U_2)$.\n",
    "Now the calculation for the expected value of $U$ is calculated like so.\n",
    "$$\\varphi U = \\frac{n_1*n_2}{2}$$\n",
    "The last calculation needed is the standard error of $U$\n",
    "$$\\sigma U = \\sqrt{\\frac{n_1*n_2*(n_1+n_2+1)}{12}}$$\n",
    "\n",
    "Now the value $z$ can be calculated:\n",
    "$$z = \\frac{U-\\varphi U}{\\sigma U}$$\n",
    "\n",
    "The z value can then be used to find the p value.\n",
    "For large samples the normal distribution can be used as  a approximation\n",
    "If the p value is larger than the significance level then the $H_0$ is not rejected.\n",
    "The significant level is usually set to $0.05$\n"
   ]
  },
  {
   "cell_type": "code",
   "execution_count": 1,
   "metadata": {},
   "outputs": [
    {
     "name": "stdout",
     "output_type": "stream",
     "text": [
      "17.0\n"
     ]
    }
   ],
   "source": [
    "males = [19, 22, 16, 29, 24]\n",
    "females = [20, 11, 17, 12]\n",
    "from scipy.stats import mannwhitneyu\n",
    "U1, p = mannwhitneyu(males, females, method=\"exact\")\n",
    "print(U1)\n"
   ]
  },
  {
   "cell_type": "code",
   "execution_count": 2,
   "metadata": {},
   "outputs": [
    {
     "name": "stdout",
     "output_type": "stream",
     "text": [
      "3.0\n"
     ]
    }
   ],
   "source": [
    "nx, ny = len(males), len(females)\n",
    "U2 = nx*ny - U1\n",
    "print(U2)"
   ]
  },
  {
   "cell_type": "code",
   "execution_count": 3,
   "metadata": {},
   "outputs": [
    {
     "name": "stdout",
     "output_type": "stream",
     "text": [
      "0.11134688653314041\n"
     ]
    }
   ],
   "source": [
    "_, pnorm = mannwhitneyu(males, females, method=\"asymptotic\")\n",
    "print(pnorm)"
   ]
  },
  {
   "cell_type": "code",
   "execution_count": 4,
   "metadata": {},
   "outputs": [
    {
     "name": "stdout",
     "output_type": "stream",
     "text": [
      "0.11134688653314041\n"
     ]
    }
   ],
   "source": [
    "import numpy as np\n",
    "from scipy.stats import norm\n",
    "U = min(U1, U2)\n",
    "N = nx + ny\n",
    "z = (U - nx*ny/2 + 0.5) / np.sqrt(nx*ny * (N + 1)/ 12)\n",
    "p = 2 * norm.cdf(z)  # use CDF to get p-value from smaller statistic\n",
    "print(p)"
   ]
  }
 ],
 "metadata": {
  "kernelspec": {
   "display_name": "Python 3.10.6 64-bit",
   "language": "python",
   "name": "python3"
  },
  "language_info": {
   "codemirror_mode": {
    "name": "ipython",
    "version": 3
   },
   "file_extension": ".py",
   "mimetype": "text/x-python",
   "name": "python",
   "nbconvert_exporter": "python",
   "pygments_lexer": "ipython3",
   "version": "3.10.6"
  },
  "orig_nbformat": 4,
  "vscode": {
   "interpreter": {
    "hash": "a7bddbc51a7f6e604dc227459bf5d8b3e9945e8f507bf96c3c10553d8e220680"
   }
  }
 },
 "nbformat": 4,
 "nbformat_minor": 2
}
